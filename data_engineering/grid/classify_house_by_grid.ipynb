{
 "cells": [
  {
   "cell_type": "code",
   "execution_count": 53,
   "id": "ce0ba616-94a3-498b-8af3-77bc61e8c941",
   "metadata": {},
   "outputs": [],
   "source": [
    "import numpy as np\n",
    "import pandas as pd\n",
    "from datetime import datetime\n",
    "from tqdm import tqdm\n",
    "import warnings\n",
    "warnings.filterwarnings(action='ignore')"
   ]
  },
  {
   "cell_type": "code",
   "execution_count": 2,
   "id": "c751ab94-f94e-4766-9c30-84fc0b92ba75",
   "metadata": {},
   "outputs": [],
   "source": [
    "pd.options.display.max_columns = 100\n",
    "pd.set_option('display.max_colwidth', -1)"
   ]
  },
  {
   "cell_type": "code",
   "execution_count": 8,
   "id": "35fbfd5b-84d9-480a-8b80-e4f363dfd838",
   "metadata": {},
   "outputs": [],
   "source": [
    "grid_df = pd.read_csv('./output/grid_20230111_200538_withoutInfra.csv')"
   ]
  },
  {
   "cell_type": "code",
   "execution_count": 12,
   "id": "d77e3e58-09b9-4614-8f4f-30ff171cbe2e",
   "metadata": {},
   "outputs": [
    {
     "name": "stderr",
     "output_type": "stream",
     "text": [
      "/opt/conda/lib/python3.8/site-packages/IPython/core/interactiveshell.py:3098: DtypeWarning: Columns (33,59,62) have mixed types.Specify dtype option on import or set low_memory=False.\n",
      "  has_raised = await self.run_ast_nodes(code_ast.body, cell_name,\n",
      "/opt/conda/lib/python3.8/site-packages/IPython/core/interactiveshell.py:3098: DtypeWarning: Columns (33,59) have mixed types.Specify dtype option on import or set low_memory=False.\n",
      "  has_raised = await self.run_ast_nodes(code_ast.body, cell_name,\n"
     ]
    }
   ],
   "source": [
    "house_v1 = pd.read_csv('./data/house_v1.csv')\n",
    "house_v2 = pd.read_csv('./data/house_v2.csv')"
   ]
  },
  {
   "cell_type": "code",
   "execution_count": 22,
   "id": "35b3f063-5749-4548-9809-7aae0d92e321",
   "metadata": {},
   "outputs": [],
   "source": [
    "h1 = house_v1[house_v1['status']=='open']\n",
    "h2 = house_v2[house_v2['status']=='open']\n",
    "h = pd.concat([h1,h2])\n",
    "h = h[~h['item_id'].duplicated()]"
   ]
  },
  {
   "cell_type": "code",
   "execution_count": 51,
   "id": "e0c5fd20-a83c-4ff6-bfd7-ea4c35fa1cbf",
   "metadata": {},
   "outputs": [],
   "source": [
    "tmp = h[['item_id','sales_type','service_type','images','image_thumbnail','매매금액','보증금액','월세금액','전용면적_m2','jibunAddress','local1','local2','title','description','random_location','floor','floor_all','manage_cost','bathroom_count']]"
   ]
  },
  {
   "cell_type": "code",
   "execution_count": 55,
   "id": "e4140c18-e1c0-408b-8d64-96af7f1bb7e1",
   "metadata": {},
   "outputs": [
    {
     "name": "stderr",
     "output_type": "stream",
     "text": [
      "100%|██████████| 12514/12514 [00:14<00:00, 872.51it/s]\n"
     ]
    }
   ],
   "source": [
    "for index, row in tqdm(tmp.iterrows(),total=tmp.shape[0]):\n",
    "    tmp.loc[index,'위도'] = float(row['random_location'].split(',')[0])\n",
    "    tmp.loc[index,'경도'] = float(row['random_location'].split(',')[1])"
   ]
  },
  {
   "cell_type": "code",
   "execution_count": 96,
   "id": "41506378-f406-4f4c-8243-40af5859c603",
   "metadata": {},
   "outputs": [
    {
     "name": "stderr",
     "output_type": "stream",
     "text": [
      "100%|██████████| 12514/12514 [03:02<00:00, 68.45it/s]\n"
     ]
    }
   ],
   "source": [
    "for index, row in tqdm(tmp.iterrows(), total=tmp.shape[0]):\n",
    "    idx = grid_df[( grid_df['min_lat'] < row['위도'] ) & ( row['위도'] < grid_df['max_lat'] )  & ( grid_df['min_long'] < row['경도'] ) & ( row['경도'] < grid_df['max_long'] )].index[0]\n",
    "    tmp.loc[index,['grid_id']] = grid_df.iloc[idx]['id']"
   ]
  },
  {
   "cell_type": "code",
   "execution_count": 111,
   "id": "5294b0fa-57d8-4358-99ae-957fc42dd506",
   "metadata": {},
   "outputs": [],
   "source": [
    "tt = tmp[['item_id','경도','위도','grid_id','sales_type','service_type','전용면적_m2','매매금액','보증금액','월세금액','manage_cost','jibunAddress','local1','local2','title','description','image_thumbnail','images','floor','floor_all','bathroom_count']]"
   ]
  },
  {
   "cell_type": "code",
   "execution_count": 114,
   "id": "cb7e7ab6-1475-4f36-b3fd-44e4f93d89b5",
   "metadata": {},
   "outputs": [],
   "source": [
    "tt['register_date'] = datetime.now().strftime(\"%Y-%m-%d %H:%M:%S\")\n",
    "tt['update_date'] = datetime.now().strftime(\"%Y-%m-%d %H:%M:%S\")\n",
    "tt['sold_yn'] = 'N'"
   ]
  },
  {
   "cell_type": "code",
   "execution_count": 130,
   "id": "8b402a7e-4fde-4062-a9f0-17d6b1fca72c",
   "metadata": {},
   "outputs": [],
   "source": [
    "tt['description'] = tt['description'].apply(lambda x: x.replace(\"\\r\\n\",\"<br>\"))\n",
    "tt['description'] = tt['description'].apply(lambda x: x.replace(\"\\n\",\"<br>\"))"
   ]
  },
  {
   "cell_type": "code",
   "execution_count": 136,
   "id": "47146ef1-fbde-4dcc-8762-79f45b158c95",
   "metadata": {},
   "outputs": [],
   "source": [
    "tt.to_csv('DB_house_info.csv',index=False)"
   ]
  }
 ],
 "metadata": {
  "kernelspec": {
   "display_name": "Python 3 (ipykernel)",
   "language": "python",
   "name": "python3"
  },
  "language_info": {
   "codemirror_mode": {
    "name": "ipython",
    "version": 3
   },
   "file_extension": ".py",
   "mimetype": "text/x-python",
   "name": "python",
   "nbconvert_exporter": "python",
   "pygments_lexer": "ipython3",
   "version": "3.8.5"
  }
 },
 "nbformat": 4,
 "nbformat_minor": 5
}
