{
 "cells": [
  {
   "cell_type": "code",
   "execution_count": 56,
   "id": "e352caa9-a2d9-4e9b-ab7c-95c5af16b986",
   "metadata": {},
   "outputs": [],
   "source": [
    "import numpy as np\n",
    "import pandas as pd\n",
    "from tqdm import tqdm\n",
    "import warnings\n",
    "\n",
    "warnings.filterwarnings(action='ignore')\n",
    "\n",
    "path = './data/'"
   ]
  },
  {
   "cell_type": "code",
   "execution_count": 38,
   "id": "4eec7b98-fff8-435e-9787-a73d618358e3",
   "metadata": {},
   "outputs": [],
   "source": [
    "park = pd.read_csv(path + 'park_data_v1.2.csv')\n",
    "mart = pd.read_csv(path + 'mart_data_v2.0.csv')\n",
    "cs = pd.read_csv(path + 'cs_data_v1.1.csv')\n",
    "cafe = pd.read_csv(path + 'cafe_data_v1.1.csv')\n",
    "pharmacy = pd.read_csv(path + 'pharmacy_data_v2.0.csv')\n",
    "subway = pd.read_csv(path + 'subway_data_v1.3.csv')\n",
    "theater = pd.read_csv(path + 'theater_data_v1.2.csv')"
   ]
  },
  {
   "cell_type": "code",
   "execution_count": 53,
   "id": "c6b5e741-f5b0-4467-9dbb-f7fedb368c6f",
   "metadata": {},
   "outputs": [],
   "source": [
    "def indexing_infra(infra_df: pd.DataFrame,infra_name: str) -> pd.DataFrame:\n",
    "    \n",
    "    infra_type_nums = {'subway':'01','cs':'02','mart':'03','park':'04','cafe':'05','phar':'06','theater':'07'}\n",
    "    infra_type = infra_type_nums[infra_name]\n",
    "    id_column = infra_df.columns[0]\n",
    "    \n",
    "    for index, row in tqdm(infra_df.iterrows(), total=infra_df.shape[0]):\n",
    "        infra_df.loc[index,id_column] = infra_type + str(index+1).zfill(6)\n",
    "        \n",
    "    infra_df.rename(columns = {id_column:'infra_id'},inplace=True)\n",
    "        \n",
    "    return infra_df  "
   ]
  },
  {
   "cell_type": "code",
   "execution_count": 58,
   "id": "7b9a4240-5a93-4b9e-9fe7-b769ee43eaa8",
   "metadata": {},
   "outputs": [],
   "source": [
    "infra_type_nums = {'subway':'01','cs':'02','mart':'03','park':'04','cafe':'05','phar':'06','theater':'07'}"
   ]
  },
  {
   "cell_type": "code",
   "execution_count": 79,
   "id": "38b78f3f-5d66-4608-a88c-8617fdabb8d1",
   "metadata": {},
   "outputs": [
    {
     "name": "stderr",
     "output_type": "stream",
     "text": [
      "100%|██████████| 751/751 [00:00<00:00, 1944.15it/s]\n"
     ]
    }
   ],
   "source": [
    "tmp = indexing_infra(subway,'subway')\n",
    "tmp.to_csv(path + 'subway' + '_data_v3.0.csv',index=False)"
   ]
  },
  {
   "cell_type": "code",
   "execution_count": 80,
   "id": "ab9253b4-275d-4808-92b0-8118bde77461",
   "metadata": {},
   "outputs": [
    {
     "data": {
      "text/html": [
       "<div>\n",
       "<style scoped>\n",
       "    .dataframe tbody tr th:only-of-type {\n",
       "        vertical-align: middle;\n",
       "    }\n",
       "\n",
       "    .dataframe tbody tr th {\n",
       "        vertical-align: top;\n",
       "    }\n",
       "\n",
       "    .dataframe thead th {\n",
       "        text-align: right;\n",
       "    }\n",
       "</style>\n",
       "<table border=\"1\" class=\"dataframe\">\n",
       "  <thead>\n",
       "    <tr style=\"text-align: right;\">\n",
       "      <th></th>\n",
       "      <th>infra_id</th>\n",
       "      <th>역이름</th>\n",
       "      <th>역지역</th>\n",
       "      <th>위도</th>\n",
       "      <th>경도</th>\n",
       "      <th>호선</th>\n",
       "    </tr>\n",
       "  </thead>\n",
       "  <tbody>\n",
       "    <tr>\n",
       "      <th>0</th>\n",
       "      <td>01000001</td>\n",
       "      <td>낙성대역</td>\n",
       "      <td>수도권</td>\n",
       "      <td>37.477090</td>\n",
       "      <td>126.963506</td>\n",
       "      <td>02호선</td>\n",
       "    </tr>\n",
       "    <tr>\n",
       "      <th>1</th>\n",
       "      <td>01000002</td>\n",
       "      <td>구룡역</td>\n",
       "      <td>수도권</td>\n",
       "      <td>37.487027</td>\n",
       "      <td>127.059475</td>\n",
       "      <td>수인분당선</td>\n",
       "    </tr>\n",
       "  </tbody>\n",
       "</table>\n",
       "</div>"
      ],
      "text/plain": [
       "   infra_id   역이름  역지역         위도          경도     호선\n",
       "0  01000001  낙성대역  수도권  37.477090  126.963506   02호선\n",
       "1  01000002   구룡역  수도권  37.487027  127.059475  수인분당선"
      ]
     },
     "execution_count": 80,
     "metadata": {},
     "output_type": "execute_result"
    }
   ],
   "source": [
    "tmp[:2]"
   ]
  },
  {
   "cell_type": "code",
   "execution_count": 81,
   "id": "57484354-c6d1-476a-b71a-3882093eba6f",
   "metadata": {},
   "outputs": [
    {
     "name": "stderr",
     "output_type": "stream",
     "text": [
      "100%|██████████| 7191/7191 [00:04<00:00, 1471.10it/s]\n"
     ]
    }
   ],
   "source": [
    "tmp = indexing_infra(cs,'cs')\n",
    "tmp.to_csv(path + 'cs' + '_data_v3.0.csv',index=False)"
   ]
  },
  {
   "cell_type": "code",
   "execution_count": 82,
   "id": "04a211ff-d8ae-4e45-bdc6-2411ef9ee49b",
   "metadata": {},
   "outputs": [
    {
     "data": {
      "text/html": [
       "<div>\n",
       "<style scoped>\n",
       "    .dataframe tbody tr th:only-of-type {\n",
       "        vertical-align: middle;\n",
       "    }\n",
       "\n",
       "    .dataframe tbody tr th {\n",
       "        vertical-align: top;\n",
       "    }\n",
       "\n",
       "    .dataframe thead th {\n",
       "        text-align: right;\n",
       "    }\n",
       "</style>\n",
       "<table border=\"1\" class=\"dataframe\">\n",
       "  <thead>\n",
       "    <tr style=\"text-align: right;\">\n",
       "      <th></th>\n",
       "      <th>infra_id</th>\n",
       "      <th>상호명</th>\n",
       "      <th>위도</th>\n",
       "      <th>경도</th>\n",
       "      <th>지점명</th>\n",
       "      <th>시도명</th>\n",
       "      <th>시군구명</th>\n",
       "      <th>행정동명</th>\n",
       "      <th>법정동명</th>\n",
       "      <th>도로명주소</th>\n",
       "      <th>신우편번호</th>\n",
       "      <th>층정보</th>\n",
       "    </tr>\n",
       "  </thead>\n",
       "  <tbody>\n",
       "    <tr>\n",
       "      <th>0</th>\n",
       "      <td>02000001</td>\n",
       "      <td>울시</td>\n",
       "      <td>37.490538</td>\n",
       "      <td>126.925066</td>\n",
       "      <td>롯데관악점</td>\n",
       "      <td>서울특별시</td>\n",
       "      <td>관악구</td>\n",
       "      <td>보라매동</td>\n",
       "      <td>봉천동</td>\n",
       "      <td>서울특별시 관악구 보라매로3길 31, (봉천동, 보라매롯데캐슬)</td>\n",
       "      <td>8708</td>\n",
       "      <td>NaN</td>\n",
       "    </tr>\n",
       "    <tr>\n",
       "      <th>1</th>\n",
       "      <td>02000002</td>\n",
       "      <td>오리고</td>\n",
       "      <td>37.608392</td>\n",
       "      <td>127.028726</td>\n",
       "      <td>현대백화점미아점</td>\n",
       "      <td>서울특별시</td>\n",
       "      <td>성북구</td>\n",
       "      <td>길음2동</td>\n",
       "      <td>길음동</td>\n",
       "      <td>서울특별시 성북구 동소문로 315, (길음동)</td>\n",
       "      <td>2730</td>\n",
       "      <td>NaN</td>\n",
       "    </tr>\n",
       "  </tbody>\n",
       "</table>\n",
       "</div>"
      ],
      "text/plain": [
       "   infra_id  상호명         위도          경도       지점명    시도명 시군구명  행정동명 법정동명  \\\n",
       "0  02000001   울시  37.490538  126.925066     롯데관악점  서울특별시  관악구  보라매동  봉천동   \n",
       "1  02000002  오리고  37.608392  127.028726  현대백화점미아점  서울특별시  성북구  길음2동  길음동   \n",
       "\n",
       "                                 도로명주소  신우편번호  층정보  \n",
       "0  서울특별시 관악구 보라매로3길 31, (봉천동, 보라매롯데캐슬)   8708  NaN  \n",
       "1            서울특별시 성북구 동소문로 315, (길음동)   2730  NaN  "
      ]
     },
     "execution_count": 82,
     "metadata": {},
     "output_type": "execute_result"
    }
   ],
   "source": [
    "tmp[:2]"
   ]
  },
  {
   "cell_type": "code",
   "execution_count": 83,
   "id": "3876fc32-264b-45f2-8203-fd6d3df75065",
   "metadata": {},
   "outputs": [
    {
     "name": "stderr",
     "output_type": "stream",
     "text": [
      "100%|██████████| 894/894 [00:00<00:00, 2088.05it/s]\n"
     ]
    }
   ],
   "source": [
    "tmp = indexing_infra(mart,'mart')\n",
    "tmp.to_csv(path + 'mart' + '_data_v3.0.csv',index=False)"
   ]
  },
  {
   "cell_type": "code",
   "execution_count": 84,
   "id": "5d3ca5d2-92f2-4448-a607-94ffa6a0acf6",
   "metadata": {},
   "outputs": [
    {
     "data": {
      "text/html": [
       "<div>\n",
       "<style scoped>\n",
       "    .dataframe tbody tr th:only-of-type {\n",
       "        vertical-align: middle;\n",
       "    }\n",
       "\n",
       "    .dataframe tbody tr th {\n",
       "        vertical-align: top;\n",
       "    }\n",
       "\n",
       "    .dataframe thead th {\n",
       "        text-align: right;\n",
       "    }\n",
       "</style>\n",
       "<table border=\"1\" class=\"dataframe\">\n",
       "  <thead>\n",
       "    <tr style=\"text-align: right;\">\n",
       "      <th></th>\n",
       "      <th>infra_id</th>\n",
       "      <th>상호명</th>\n",
       "      <th>위도</th>\n",
       "      <th>경도</th>\n",
       "      <th>지점명</th>\n",
       "      <th>시도명</th>\n",
       "      <th>시군구명</th>\n",
       "      <th>행정동명</th>\n",
       "      <th>법정동명</th>\n",
       "      <th>도로명주소</th>\n",
       "      <th>신우편번호</th>\n",
       "      <th>층정보</th>\n",
       "    </tr>\n",
       "  </thead>\n",
       "  <tbody>\n",
       "    <tr>\n",
       "      <th>0</th>\n",
       "      <td>03000001</td>\n",
       "      <td>롯데마트</td>\n",
       "      <td>37.535713</td>\n",
       "      <td>127.095681</td>\n",
       "      <td>강변점</td>\n",
       "      <td>서울특별시</td>\n",
       "      <td>광진구</td>\n",
       "      <td>구의3동</td>\n",
       "      <td>구의동</td>\n",
       "      <td>서울특별시 광진구 광나루로56길 85, (구의동)</td>\n",
       "      <td>5116</td>\n",
       "      <td>NaN</td>\n",
       "    </tr>\n",
       "    <tr>\n",
       "      <th>1</th>\n",
       "      <td>03000002</td>\n",
       "      <td>LOCK&amp;LOCKPLUS서울송파점</td>\n",
       "      <td>37.510218</td>\n",
       "      <td>127.085695</td>\n",
       "      <td>서울송파점</td>\n",
       "      <td>서울특별시</td>\n",
       "      <td>송파구</td>\n",
       "      <td>잠실본동</td>\n",
       "      <td>잠실동</td>\n",
       "      <td>서울특별시 송파구 석촌호수로 68, (잠실동)</td>\n",
       "      <td>5559</td>\n",
       "      <td>1</td>\n",
       "    </tr>\n",
       "  </tbody>\n",
       "</table>\n",
       "</div>"
      ],
      "text/plain": [
       "   infra_id                 상호명         위도          경도    지점명    시도명 시군구명  \\\n",
       "0  03000001                롯데마트  37.535713  127.095681    강변점  서울특별시  광진구   \n",
       "1  03000002  LOCK&LOCKPLUS서울송파점  37.510218  127.085695  서울송파점  서울특별시  송파구   \n",
       "\n",
       "   행정동명 법정동명                        도로명주소  신우편번호  층정보  \n",
       "0  구의3동  구의동  서울특별시 광진구 광나루로56길 85, (구의동)   5116  NaN  \n",
       "1  잠실본동  잠실동    서울특별시 송파구 석촌호수로 68, (잠실동)   5559    1  "
      ]
     },
     "execution_count": 84,
     "metadata": {},
     "output_type": "execute_result"
    }
   ],
   "source": [
    "tmp[:2]"
   ]
  },
  {
   "cell_type": "code",
   "execution_count": 85,
   "id": "e441b80a-a852-4226-88c4-db3ba1bb0d94",
   "metadata": {},
   "outputs": [
    {
     "name": "stderr",
     "output_type": "stream",
     "text": [
      "100%|██████████| 131/131 [00:00<00:00, 2141.24it/s]\n"
     ]
    }
   ],
   "source": [
    "tmp = indexing_infra(park,'park')\n",
    "tmp.to_csv(path + 'park' + '_data_v3.0.csv',index=False)"
   ]
  },
  {
   "cell_type": "code",
   "execution_count": 86,
   "id": "d2710644-451f-4a64-8259-82c06ffa6685",
   "metadata": {},
   "outputs": [
    {
     "data": {
      "text/html": [
       "<div>\n",
       "<style scoped>\n",
       "    .dataframe tbody tr th:only-of-type {\n",
       "        vertical-align: middle;\n",
       "    }\n",
       "\n",
       "    .dataframe tbody tr th {\n",
       "        vertical-align: top;\n",
       "    }\n",
       "\n",
       "    .dataframe thead th {\n",
       "        text-align: right;\n",
       "    }\n",
       "</style>\n",
       "<table border=\"1\" class=\"dataframe\">\n",
       "  <thead>\n",
       "    <tr style=\"text-align: right;\">\n",
       "      <th></th>\n",
       "      <th>infra_id</th>\n",
       "      <th>공원명</th>\n",
       "      <th>위도</th>\n",
       "      <th>경도</th>\n",
       "      <th>지역</th>\n",
       "      <th>면적</th>\n",
       "      <th>개원일</th>\n",
       "      <th>공원주소</th>\n",
       "      <th>전화번호</th>\n",
       "    </tr>\n",
       "  </thead>\n",
       "  <tbody>\n",
       "    <tr>\n",
       "      <th>0</th>\n",
       "      <td>04000001</td>\n",
       "      <td>남산도시자연공원</td>\n",
       "      <td>37.550140</td>\n",
       "      <td>126.990377</td>\n",
       "      <td>중구</td>\n",
       "      <td>2896887㎡</td>\n",
       "      <td>1968.9.10</td>\n",
       "      <td>서울특별시 중구 삼일대로 231(예장동)</td>\n",
       "      <td>02-3783-5900</td>\n",
       "    </tr>\n",
       "    <tr>\n",
       "      <th>1</th>\n",
       "      <td>04000002</td>\n",
       "      <td>길동생태공원</td>\n",
       "      <td>37.540394</td>\n",
       "      <td>127.154779</td>\n",
       "      <td>강동구</td>\n",
       "      <td>80683㎡</td>\n",
       "      <td>1999.5.20</td>\n",
       "      <td>서울특별시 강동구 천호대로 1291(길동생태공원)</td>\n",
       "      <td>02-489-2770</td>\n",
       "    </tr>\n",
       "  </tbody>\n",
       "</table>\n",
       "</div>"
      ],
      "text/plain": [
       "   infra_id       공원명         위도          경도   지역        면적        개원일  \\\n",
       "0  04000001  남산도시자연공원  37.550140  126.990377   중구  2896887㎡  1968.9.10   \n",
       "1  04000002    길동생태공원  37.540394  127.154779  강동구    80683㎡  1999.5.20   \n",
       "\n",
       "                           공원주소          전화번호  \n",
       "0        서울특별시 중구 삼일대로 231(예장동)  02-3783-5900  \n",
       "1  서울특별시 강동구 천호대로 1291(길동생태공원)    02-489-2770  "
      ]
     },
     "execution_count": 86,
     "metadata": {},
     "output_type": "execute_result"
    }
   ],
   "source": [
    "tmp[:2]"
   ]
  },
  {
   "cell_type": "code",
   "execution_count": 87,
   "id": "f30dc907-48c8-40eb-b134-239b60979051",
   "metadata": {},
   "outputs": [
    {
     "name": "stderr",
     "output_type": "stream",
     "text": [
      "100%|██████████| 19842/19842 [00:20<00:00, 980.87it/s] \n"
     ]
    }
   ],
   "source": [
    "tmp = indexing_infra(cafe,'cafe')\n",
    "tmp.to_csv(path + 'cafe' + '_data_v3.0.csv',index=False)"
   ]
  },
  {
   "cell_type": "code",
   "execution_count": 88,
   "id": "28472b40-b556-4c5a-80fa-88431a913db1",
   "metadata": {},
   "outputs": [
    {
     "data": {
      "text/html": [
       "<div>\n",
       "<style scoped>\n",
       "    .dataframe tbody tr th:only-of-type {\n",
       "        vertical-align: middle;\n",
       "    }\n",
       "\n",
       "    .dataframe tbody tr th {\n",
       "        vertical-align: top;\n",
       "    }\n",
       "\n",
       "    .dataframe thead th {\n",
       "        text-align: right;\n",
       "    }\n",
       "</style>\n",
       "<table border=\"1\" class=\"dataframe\">\n",
       "  <thead>\n",
       "    <tr style=\"text-align: right;\">\n",
       "      <th></th>\n",
       "      <th>infra_id</th>\n",
       "      <th>상호명</th>\n",
       "      <th>위도</th>\n",
       "      <th>경도</th>\n",
       "      <th>지점명</th>\n",
       "      <th>시도명</th>\n",
       "      <th>시군구명</th>\n",
       "      <th>행정동명</th>\n",
       "      <th>법정동명</th>\n",
       "      <th>도로명주소</th>\n",
       "      <th>신우편번호</th>\n",
       "      <th>층정보</th>\n",
       "    </tr>\n",
       "  </thead>\n",
       "  <tbody>\n",
       "    <tr>\n",
       "      <th>0</th>\n",
       "      <td>05000001</td>\n",
       "      <td>커피빈</td>\n",
       "      <td>37.583149</td>\n",
       "      <td>127.000171</td>\n",
       "      <td>코리아대학로대명거리점</td>\n",
       "      <td>서울특별시</td>\n",
       "      <td>종로구</td>\n",
       "      <td>혜화동</td>\n",
       "      <td>명륜4가</td>\n",
       "      <td>서울특별시 종로구 대명길 25, (명륜4가)</td>\n",
       "      <td>3078</td>\n",
       "      <td>3</td>\n",
       "    </tr>\n",
       "    <tr>\n",
       "      <th>1</th>\n",
       "      <td>05000002</td>\n",
       "      <td>요거프레소</td>\n",
       "      <td>37.658728</td>\n",
       "      <td>127.034746</td>\n",
       "      <td>쌍문점</td>\n",
       "      <td>서울특별시</td>\n",
       "      <td>도봉구</td>\n",
       "      <td>쌍문2동</td>\n",
       "      <td>쌍문동</td>\n",
       "      <td>서울특별시 도봉구 도당로 7, (쌍문동, 벽산프라자)</td>\n",
       "      <td>1385</td>\n",
       "      <td>1</td>\n",
       "    </tr>\n",
       "  </tbody>\n",
       "</table>\n",
       "</div>"
      ],
      "text/plain": [
       "   infra_id    상호명         위도          경도          지점명    시도명 시군구명  행정동명  \\\n",
       "0  05000001    커피빈  37.583149  127.000171  코리아대학로대명거리점  서울특별시  종로구   혜화동   \n",
       "1  05000002  요거프레소  37.658728  127.034746          쌍문점  서울특별시  도봉구  쌍문2동   \n",
       "\n",
       "   법정동명                          도로명주소  신우편번호 층정보  \n",
       "0  명륜4가       서울특별시 종로구 대명길 25, (명륜4가)   3078   3  \n",
       "1   쌍문동  서울특별시 도봉구 도당로 7, (쌍문동, 벽산프라자)   1385   1  "
      ]
     },
     "execution_count": 88,
     "metadata": {},
     "output_type": "execute_result"
    }
   ],
   "source": [
    "tmp[:2]"
   ]
  },
  {
   "cell_type": "code",
   "execution_count": 89,
   "id": "82b63993-8228-4229-afcc-c37a43088e60",
   "metadata": {},
   "outputs": [
    {
     "name": "stderr",
     "output_type": "stream",
     "text": [
      "100%|██████████| 5499/5499 [00:03<00:00, 1618.06it/s]\n"
     ]
    }
   ],
   "source": [
    "tmp = indexing_infra(pharmacy,'phar')\n",
    "tmp.to_csv(path + 'pharmacy' + '_data_v3.0.csv',index=False)"
   ]
  },
  {
   "cell_type": "code",
   "execution_count": 90,
   "id": "5e78a0c1-3a6c-4d98-a207-e97a3acb89dd",
   "metadata": {},
   "outputs": [
    {
     "data": {
      "text/html": [
       "<div>\n",
       "<style scoped>\n",
       "    .dataframe tbody tr th:only-of-type {\n",
       "        vertical-align: middle;\n",
       "    }\n",
       "\n",
       "    .dataframe tbody tr th {\n",
       "        vertical-align: top;\n",
       "    }\n",
       "\n",
       "    .dataframe thead th {\n",
       "        text-align: right;\n",
       "    }\n",
       "</style>\n",
       "<table border=\"1\" class=\"dataframe\">\n",
       "  <thead>\n",
       "    <tr style=\"text-align: right;\">\n",
       "      <th></th>\n",
       "      <th>infra_id</th>\n",
       "      <th>사업장명</th>\n",
       "      <th>경도</th>\n",
       "      <th>위도</th>\n",
       "      <th>도로명주소</th>\n",
       "      <th>전화번호</th>\n",
       "      <th>약국영업면적</th>\n",
       "      <th>인허가일자</th>\n",
       "      <th>영업상태코드</th>\n",
       "      <th>local1</th>\n",
       "      <th>local2</th>\n",
       "      <th>local3</th>\n",
       "    </tr>\n",
       "  </thead>\n",
       "  <tbody>\n",
       "    <tr>\n",
       "      <th>0</th>\n",
       "      <td>06000001</td>\n",
       "      <td>연세파란약국</td>\n",
       "      <td>127.079597</td>\n",
       "      <td>37.588149</td>\n",
       "      <td>서울특별시 중랑구 동일로 645</td>\n",
       "      <td>02-493-8856</td>\n",
       "      <td>NaN</td>\n",
       "      <td>20221017</td>\n",
       "      <td>1</td>\n",
       "      <td>서울특별시</td>\n",
       "      <td>중랑구</td>\n",
       "      <td>동일로</td>\n",
       "    </tr>\n",
       "    <tr>\n",
       "      <th>1</th>\n",
       "      <td>06000002</td>\n",
       "      <td>더조은약국</td>\n",
       "      <td>127.128191</td>\n",
       "      <td>37.550176</td>\n",
       "      <td>서울특별시 강동구 상암로 41</td>\n",
       "      <td>02-428-2588</td>\n",
       "      <td>NaN</td>\n",
       "      <td>20221017</td>\n",
       "      <td>1</td>\n",
       "      <td>서울특별시</td>\n",
       "      <td>강동구</td>\n",
       "      <td>상암로</td>\n",
       "    </tr>\n",
       "  </tbody>\n",
       "</table>\n",
       "</div>"
      ],
      "text/plain": [
       "   infra_id    사업장명          경도         위도              도로명주소         전화번호  \\\n",
       "0  06000001  연세파란약국  127.079597  37.588149  서울특별시 중랑구 동일로 645  02-493-8856   \n",
       "1  06000002   더조은약국  127.128191  37.550176   서울특별시 강동구 상암로 41  02-428-2588   \n",
       "\n",
       "   약국영업면적     인허가일자  영업상태코드 local1 local2 local3  \n",
       "0     NaN  20221017       1  서울특별시    중랑구    동일로  \n",
       "1     NaN  20221017       1  서울특별시    강동구    상암로  "
      ]
     },
     "execution_count": 90,
     "metadata": {},
     "output_type": "execute_result"
    }
   ],
   "source": [
    "tmp[:2]"
   ]
  },
  {
   "cell_type": "code",
   "execution_count": 91,
   "id": "a535b18c-799e-44ce-9031-7f5802664b63",
   "metadata": {},
   "outputs": [
    {
     "name": "stderr",
     "output_type": "stream",
     "text": [
      "100%|██████████| 74/74 [00:00<00:00, 2088.68it/s]\n"
     ]
    }
   ],
   "source": [
    "tmp = indexing_infra(theater,'theater')\n",
    "tmp.to_csv(path + 'theater' + '_data_v3.0.csv',index=False)"
   ]
  },
  {
   "cell_type": "code",
   "execution_count": 92,
   "id": "3183a7b7-0090-4a6d-837f-e90ab91c647f",
   "metadata": {},
   "outputs": [
    {
     "data": {
      "text/html": [
       "<div>\n",
       "<style scoped>\n",
       "    .dataframe tbody tr th:only-of-type {\n",
       "        vertical-align: middle;\n",
       "    }\n",
       "\n",
       "    .dataframe tbody tr th {\n",
       "        vertical-align: top;\n",
       "    }\n",
       "\n",
       "    .dataframe thead th {\n",
       "        text-align: right;\n",
       "    }\n",
       "</style>\n",
       "<table border=\"1\" class=\"dataframe\">\n",
       "  <thead>\n",
       "    <tr style=\"text-align: right;\">\n",
       "      <th></th>\n",
       "      <th>infra_id</th>\n",
       "      <th>사업장명</th>\n",
       "      <th>위도</th>\n",
       "      <th>경도</th>\n",
       "      <th>인허가일자</th>\n",
       "      <th>최종수정일자</th>\n",
       "      <th>영업상태명</th>\n",
       "      <th>전화번호</th>\n",
       "      <th>도로명주소</th>\n",
       "      <th>도로명우편번호</th>\n",
       "      <th>theater</th>\n",
       "    </tr>\n",
       "  </thead>\n",
       "  <tbody>\n",
       "    <tr>\n",
       "      <th>0</th>\n",
       "      <td>07000001</td>\n",
       "      <td>CGV 방학</td>\n",
       "      <td>37.644577</td>\n",
       "      <td>127.032438</td>\n",
       "      <td>20220420</td>\n",
       "      <td>20220420155747</td>\n",
       "      <td>영업/정상</td>\n",
       "      <td>02-526-8859</td>\n",
       "      <td>서울특별시 도봉구 도봉로 684</td>\n",
       "      <td>1334.0</td>\n",
       "      <td>CGV</td>\n",
       "    </tr>\n",
       "    <tr>\n",
       "      <th>1</th>\n",
       "      <td>07000002</td>\n",
       "      <td>롯데시네마 노원수락산역</td>\n",
       "      <td>37.624265</td>\n",
       "      <td>127.073450</td>\n",
       "      <td>20151112</td>\n",
       "      <td>20220418103651</td>\n",
       "      <td>영업/정상</td>\n",
       "      <td>02-935-0930</td>\n",
       "      <td>서울특별시 노원구 동일로 1660</td>\n",
       "      <td>1625.0</td>\n",
       "      <td>롯데시네마</td>\n",
       "    </tr>\n",
       "  </tbody>\n",
       "</table>\n",
       "</div>"
      ],
      "text/plain": [
       "   infra_id          사업장명         위도          경도     인허가일자          최종수정일자  \\\n",
       "0  07000001        CGV 방학  37.644577  127.032438  20220420  20220420155747   \n",
       "1  07000002  롯데시네마 노원수락산역  37.624265  127.073450  20151112  20220418103651   \n",
       "\n",
       "   영업상태명         전화번호               도로명주소  도로명우편번호 theater  \n",
       "0  영업/정상  02-526-8859   서울특별시 도봉구 도봉로 684   1334.0     CGV  \n",
       "1  영업/정상  02-935-0930  서울특별시 노원구 동일로 1660   1625.0   롯데시네마  "
      ]
     },
     "execution_count": 92,
     "metadata": {},
     "output_type": "execute_result"
    }
   ],
   "source": [
    "tmp[:2]"
   ]
  }
 ],
 "metadata": {
  "kernelspec": {
   "display_name": "Python 3 (ipykernel)",
   "language": "python",
   "name": "python3"
  },
  "language_info": {
   "codemirror_mode": {
    "name": "ipython",
    "version": 3
   },
   "file_extension": ".py",
   "mimetype": "text/x-python",
   "name": "python",
   "nbconvert_exporter": "python",
   "pygments_lexer": "ipython3",
   "version": "3.8.5"
  }
 },
 "nbformat": 4,
 "nbformat_minor": 5
}
