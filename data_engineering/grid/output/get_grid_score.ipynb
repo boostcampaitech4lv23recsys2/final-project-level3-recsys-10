{
 "cells": [
  {
   "cell_type": "code",
   "execution_count": 129,
   "id": "17629cd8-bf39-4eef-98d9-851fde815fb1",
   "metadata": {},
   "outputs": [],
   "source": [
    "import numpy as np\n",
    "import pandas as pd\n",
    "from datetime import datetime"
   ]
  },
  {
   "cell_type": "code",
   "execution_count": 130,
   "id": "54436270-7feb-4984-83df-1e686ce8602b",
   "metadata": {},
   "outputs": [],
   "source": [
    "cs = pd.read_csv('grid_20230113_054137_withCs.csv')\n",
    "phar = pd.read_csv('grid_20230113_054404_withPhar.csv')\n",
    "theater = pd.read_csv('grid_20230113_054431_withTheater.csv')\n",
    "park = pd.read_csv('grid_20230113_054315_withPark.csv')\n",
    "mart = pd.read_csv('grid_20230113_054243_withMart.csv')\n",
    "subway = pd.read_csv('grid_20230113_054053_withSubway.csv')\n",
    "cafe = pd.read_csv('grid_20230113_054344_withCafe.csv')"
   ]
  },
  {
   "cell_type": "code",
   "execution_count": 131,
   "id": "473dfde9-b32e-4e41-a77a-741cfa2ec6c5",
   "metadata": {},
   "outputs": [],
   "source": [
    "grid_score_columns = ['grid_id','infra_type','infra_id','infra_dist','infra_cnt','infra_dist_score','infra_cnt_score','register_date','update_date']"
   ]
  },
  {
   "cell_type": "code",
   "execution_count": 132,
   "id": "9a06c11e-8175-4d4b-aedb-e8cce615a9c2",
   "metadata": {
    "tags": []
   },
   "outputs": [],
   "source": [
    "def make_grid_score(infra_df,infra_name: str):\n",
    "    infra_type = {'subway':'01','cs':'02','mart':'03','park':'04','cafe':'05','phar':'06','theater':'07'}\n",
    "    \n",
    "    infra_df[infra_name+'_id'] = infra_df[infra_name+'_id'].apply(lambda x: str(x).zfill(8) if x!=-1 else None)\n",
    "    infra_df[infra_name+'_dist'] = infra_df[infra_name+'_dist'].apply(lambda x: x if x!=-1 else None)\n",
    "    infra_df[infra_name+'_cnt'] = infra_df[infra_name+'_cnt'].apply(lambda x: x if x!=0 else None)\n",
    "    infra_df[infra_name+'_dist_score'] = infra_df[infra_name+'_dist_score'].apply(lambda x: x if x!=0 else None)\n",
    "    # infra_df[infra_name+'_cnt_score'] = infra_df[infra_name+'_cnt_score'].apply(lambda x: x if x!=0 else None) 0점을 모두 Nan값처리하게됨.\n",
    "    infra_df['infra_type'] = infra_type[infra_name] \n",
    "    infra_df['register_date'] = datetime.now().strftime(\"%Y-%m-%d %H:%M:%S\")\n",
    "    infra_df['update_date'] = datetime.now().strftime(\"%Y-%m-%d %H:%M:%S\")\n",
    "    \n",
    "    infra_df = infra_df[['id','infra_type',infra_name+'_id',infra_name+'_dist',infra_name+'_cnt',infra_name+'_dist_score',infra_name+'_cnt_score','register_date','update_date']]\n",
    "    infra_df.columns = grid_score_columns\n",
    "    return infra_df"
   ]
  },
  {
   "cell_type": "code",
   "execution_count": 133,
   "id": "bcc897e7-c545-4506-bdd1-43e6091603d2",
   "metadata": {},
   "outputs": [],
   "source": [
    "subway = make_grid_score(subway,'subway')\n",
    "cs = make_grid_score(cs,'cs')\n",
    "mart = make_grid_score(mart,'mart')\n",
    "park = make_grid_score(park,'park')\n",
    "cafe = make_grid_score(cafe,'cafe')\n",
    "phar = make_grid_score(phar,'phar')\n",
    "theater = make_grid_score(theater,'theater')"
   ]
  },
  {
   "cell_type": "code",
   "execution_count": 134,
   "id": "dda9a464-adcf-46db-9745-dbdbd8bb1d28",
   "metadata": {},
   "outputs": [],
   "source": [
    "subway.to_csv('DB_GRID_SCORE_subway.csv',index=False)\n",
    "cs.to_csv('DB_GRID_SCORE_cs.csv',index=False)\n",
    "mart.to_csv('DB_GRID_SCORE_mart.csv',index=False)\n",
    "park.to_csv('DB_GRID_SCORE_park.csv',index=False)\n",
    "cafe.to_csv('DB_GRID_SCORE_cafe.csv',index=False)\n",
    "phar.to_csv('DB_GRID_SCORE_phar.csv',index=False)\n",
    "theater.to_csv('DB_GRID_SCORE_theater.csv',index=False)"
   ]
  },
  {
   "cell_type": "code",
   "execution_count": 147,
   "id": "53574fa8-ce4b-4ad4-9532-1ea2bd9f3f39",
   "metadata": {},
   "outputs": [
    {
     "data": {
      "text/plain": [
       "91.12594926684505"
      ]
     },
     "execution_count": 147,
     "metadata": {},
     "output_type": "execute_result"
    }
   ],
   "source": [
    "(1 - subway[~subway['infra_dist'].isna()].shape[0]/subway.shape[0])*100"
   ]
  },
  {
   "cell_type": "code",
   "execution_count": 148,
   "id": "2d96c0e9-58b1-4965-bce4-746adf082a7d",
   "metadata": {},
   "outputs": [
    {
     "data": {
      "text/plain": [
       "86.39218857239715"
      ]
     },
     "execution_count": 148,
     "metadata": {},
     "output_type": "execute_result"
    }
   ],
   "source": [
    "(1 - cs[~cs['infra_dist'].isna()].shape[0]/cs.shape[0])*100"
   ]
  },
  {
   "cell_type": "code",
   "execution_count": 149,
   "id": "e23effe0-7e49-4f61-9504-f299be532739",
   "metadata": {},
   "outputs": [
    {
     "data": {
      "text/plain": [
       "72.38163514253245"
      ]
     },
     "execution_count": 149,
     "metadata": {},
     "output_type": "execute_result"
    }
   ],
   "source": [
    "(1 - mart[~mart['infra_dist'].isna()].shape[0]/mart.shape[0])*100"
   ]
  },
  {
   "cell_type": "code",
   "execution_count": 150,
   "id": "5c246230-133a-4d45-bf4b-686c726b2e21",
   "metadata": {},
   "outputs": [
    {
     "data": {
      "text/plain": [
       "96.82752450101839"
      ]
     },
     "execution_count": 150,
     "metadata": {},
     "output_type": "execute_result"
    }
   ],
   "source": [
    "(1 - park[~park['infra_dist'].isna()].shape[0]/park.shape[0])*100"
   ]
  },
  {
   "cell_type": "code",
   "execution_count": 151,
   "id": "8155e77c-3e86-4d15-9149-3fa49ae02725",
   "metadata": {},
   "outputs": [
    {
     "data": {
      "text/plain": [
       "62.74411405929149"
      ]
     },
     "execution_count": 151,
     "metadata": {},
     "output_type": "execute_result"
    }
   ],
   "source": [
    "(1 - cafe[~cafe['infra_dist'].isna()].shape[0]/cafe.shape[0])*100"
   ]
  },
  {
   "cell_type": "code",
   "execution_count": 152,
   "id": "204fef48-c613-447d-970a-c5e6278165e2",
   "metadata": {},
   "outputs": [
    {
     "data": {
      "text/plain": [
       "71.96499973602532"
      ]
     },
     "execution_count": 152,
     "metadata": {},
     "output_type": "execute_result"
    }
   ],
   "source": [
    "(1 - phar[~phar['infra_dist'].isna()].shape[0]/phar.shape[0])*100"
   ]
  },
  {
   "cell_type": "code",
   "execution_count": 154,
   "id": "40188d75-da6a-4aec-8469-e84011a82f42",
   "metadata": {},
   "outputs": [
    {
     "data": {
      "text/plain": [
       "85.85506956427506"
      ]
     },
     "execution_count": 154,
     "metadata": {},
     "output_type": "execute_result"
    }
   ],
   "source": [
    "(1 - theater[~theater['infra_dist'].isna()].shape[0]/theater.shape[0])*100"
   ]
  }
 ],
 "metadata": {
  "kernelspec": {
   "display_name": "Python 3 (ipykernel)",
   "language": "python",
   "name": "python3"
  },
  "language_info": {
   "codemirror_mode": {
    "name": "ipython",
    "version": 3
   },
   "file_extension": ".py",
   "mimetype": "text/x-python",
   "name": "python",
   "nbconvert_exporter": "python",
   "pygments_lexer": "ipython3",
   "version": "3.8.5"
  }
 },
 "nbformat": 4,
 "nbformat_minor": 5
}
