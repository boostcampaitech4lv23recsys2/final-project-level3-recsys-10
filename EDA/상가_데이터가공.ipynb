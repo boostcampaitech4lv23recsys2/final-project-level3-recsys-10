{
 "cells": [
  {
   "cell_type": "code",
   "execution_count": 2,
   "id": "1b837cb2-091f-470c-9c45-152dc008c9e5",
   "metadata": {},
   "outputs": [],
   "source": [
    "# 환경구축 : requirements.txt + pandas install\n",
    "import numpy as np\n",
    "import pandas as pd\n",
    "import pyproj\n",
    "import geopy\n",
    "import matplotlib as mpl\n",
    "import matplotlib.pyplot as plt\n",
    "\n",
    "import warnings\n",
    "\n",
    "warnings.filterwarnings(action='ignore')\n",
    "\n",
    "import os\n",
    "from geopy.geocoders import Nominatim\n",
    "geo_local = Nominatim(user_agent='South Korea')\n",
    "\n",
    "path = '/opt/ml/'"
   ]
  },
  {
   "cell_type": "code",
   "execution_count": 4,
   "id": "dacd2a36-e149-4c7d-a479-bdb329a94a45",
   "metadata": {},
   "outputs": [],
   "source": [
    "store = pd.read_csv('store.csv',encoding='cp949')"
   ]
  },
  {
   "cell_type": "code",
   "execution_count": 6,
   "id": "490afc7c-c7e8-425b-8a1e-871475cfcbec",
   "metadata": {},
   "outputs": [],
   "source": [
    "pd.options.display.max_columns = 100"
   ]
  },
  {
   "cell_type": "code",
   "execution_count": 28,
   "id": "072188c2-69a0-4ab4-8563-5fd258eca420",
   "metadata": {},
   "outputs": [],
   "source": [
    "s1 = store[['상가업소번호','상호명','지점명','상권업종소분류명','시도명','시군구명','행정동명','법정동명','지번주소','건물명','도로명주소','신우편번호','층정보','경도','위도']]"
   ]
  },
  {
   "cell_type": "code",
   "execution_count": 29,
   "id": "52e37d4c-d76d-4458-af58-8e83183ead2c",
   "metadata": {},
   "outputs": [
    {
     "data": {
      "text/html": [
       "<div>\n",
       "<style scoped>\n",
       "    .dataframe tbody tr th:only-of-type {\n",
       "        vertical-align: middle;\n",
       "    }\n",
       "\n",
       "    .dataframe tbody tr th {\n",
       "        vertical-align: top;\n",
       "    }\n",
       "\n",
       "    .dataframe thead th {\n",
       "        text-align: right;\n",
       "    }\n",
       "</style>\n",
       "<table border=\"1\" class=\"dataframe\">\n",
       "  <thead>\n",
       "    <tr style=\"text-align: right;\">\n",
       "      <th></th>\n",
       "      <th>상가업소번호</th>\n",
       "      <th>상호명</th>\n",
       "      <th>지점명</th>\n",
       "      <th>상권업종소분류명</th>\n",
       "      <th>시도명</th>\n",
       "      <th>시군구명</th>\n",
       "      <th>행정동명</th>\n",
       "      <th>법정동명</th>\n",
       "      <th>지번주소</th>\n",
       "      <th>건물명</th>\n",
       "      <th>도로명주소</th>\n",
       "      <th>신우편번호</th>\n",
       "      <th>층정보</th>\n",
       "      <th>경도</th>\n",
       "      <th>위도</th>\n",
       "    </tr>\n",
       "  </thead>\n",
       "  <tbody>\n",
       "    <tr>\n",
       "      <th>0</th>\n",
       "      <td>23324279</td>\n",
       "      <td>제중건강원</td>\n",
       "      <td>NaN</td>\n",
       "      <td>건강원</td>\n",
       "      <td>서울특별시</td>\n",
       "      <td>영등포구</td>\n",
       "      <td>영등포동</td>\n",
       "      <td>영등포동5가</td>\n",
       "      <td>서울특별시 영등포구 영등포동5가 41-1</td>\n",
       "      <td>NaN</td>\n",
       "      <td>서울특별시 영등포구 영중로14길 11-17, (영등포동5가)</td>\n",
       "      <td>7250</td>\n",
       "      <td>1</td>\n",
       "      <td>126.907168</td>\n",
       "      <td>37.520613</td>\n",
       "    </tr>\n",
       "    <tr>\n",
       "      <th>1</th>\n",
       "      <td>24525909</td>\n",
       "      <td>민속악기사</td>\n",
       "      <td>NaN</td>\n",
       "      <td>악기판매</td>\n",
       "      <td>서울특별시</td>\n",
       "      <td>성동구</td>\n",
       "      <td>용답동</td>\n",
       "      <td>용답동</td>\n",
       "      <td>서울특별시 성동구 용답동 142-11</td>\n",
       "      <td>NaN</td>\n",
       "      <td>서울특별시 성동구 용답5길 2, (용답동)</td>\n",
       "      <td>4803</td>\n",
       "      <td>NaN</td>\n",
       "      <td>127.049018</td>\n",
       "      <td>37.566857</td>\n",
       "    </tr>\n",
       "  </tbody>\n",
       "</table>\n",
       "</div>"
      ],
      "text/plain": [
       "     상가업소번호    상호명  지점명 상권업종소분류명    시도명  시군구명  행정동명    법정동명  \\\n",
       "0  23324279  제중건강원  NaN      건강원  서울특별시  영등포구  영등포동  영등포동5가   \n",
       "1  24525909  민속악기사  NaN     악기판매  서울특별시   성동구   용답동     용답동   \n",
       "\n",
       "                     지번주소  건물명                              도로명주소  신우편번호  층정보  \\\n",
       "0  서울특별시 영등포구 영등포동5가 41-1  NaN  서울특별시 영등포구 영중로14길 11-17, (영등포동5가)   7250    1   \n",
       "1    서울특별시 성동구 용답동 142-11  NaN            서울특별시 성동구 용답5길 2, (용답동)   4803  NaN   \n",
       "\n",
       "           경도         위도  \n",
       "0  126.907168  37.520613  \n",
       "1  127.049018  37.566857  "
      ]
     },
     "execution_count": 29,
     "metadata": {},
     "output_type": "execute_result"
    }
   ],
   "source": [
    "s1[:2]"
   ]
  },
  {
   "cell_type": "code",
   "execution_count": 84,
   "id": "7fbb4d8c-2634-4978-b9bc-3d713e4e3582",
   "metadata": {},
   "outputs": [],
   "source": [
    "tmp = s1[s1['상권업종소분류명']=='커피전문점/카페/다방']"
   ]
  },
  {
   "cell_type": "code",
   "execution_count": 85,
   "id": "6fea8cbb-3434-4b8b-a8f0-befcdb687664",
   "metadata": {},
   "outputs": [
    {
     "data": {
      "text/plain": [
       "(20125, 15)"
      ]
     },
     "execution_count": 85,
     "metadata": {},
     "output_type": "execute_result"
    }
   ],
   "source": [
    "tmp.shape"
   ]
  },
  {
   "cell_type": "code",
   "execution_count": 86,
   "id": "ab4a56ab-2e1b-44f7-b29f-9f2ce69289be",
   "metadata": {},
   "outputs": [
    {
     "data": {
      "text/html": [
       "<div>\n",
       "<style scoped>\n",
       "    .dataframe tbody tr th:only-of-type {\n",
       "        vertical-align: middle;\n",
       "    }\n",
       "\n",
       "    .dataframe tbody tr th {\n",
       "        vertical-align: top;\n",
       "    }\n",
       "\n",
       "    .dataframe thead th {\n",
       "        text-align: right;\n",
       "    }\n",
       "</style>\n",
       "<table border=\"1\" class=\"dataframe\">\n",
       "  <thead>\n",
       "    <tr style=\"text-align: right;\">\n",
       "      <th></th>\n",
       "      <th>상가업소번호</th>\n",
       "      <th>상호명</th>\n",
       "      <th>지점명</th>\n",
       "      <th>상권업종소분류명</th>\n",
       "      <th>시도명</th>\n",
       "      <th>시군구명</th>\n",
       "      <th>행정동명</th>\n",
       "      <th>법정동명</th>\n",
       "      <th>지번주소</th>\n",
       "      <th>건물명</th>\n",
       "      <th>도로명주소</th>\n",
       "      <th>신우편번호</th>\n",
       "      <th>층정보</th>\n",
       "      <th>경도</th>\n",
       "      <th>위도</th>\n",
       "    </tr>\n",
       "  </thead>\n",
       "  <tbody>\n",
       "    <tr>\n",
       "      <th>20</th>\n",
       "      <td>20659878</td>\n",
       "      <td>커피빈</td>\n",
       "      <td>코리아대학로대명거리점</td>\n",
       "      <td>커피전문점/카페/다방</td>\n",
       "      <td>서울특별시</td>\n",
       "      <td>종로구</td>\n",
       "      <td>혜화동</td>\n",
       "      <td>명륜4가</td>\n",
       "      <td>서울특별시 종로구 명륜4가 51</td>\n",
       "      <td>NaN</td>\n",
       "      <td>서울특별시 종로구 대명길 25, (명륜4가)</td>\n",
       "      <td>3078</td>\n",
       "      <td>3</td>\n",
       "      <td>127.000171</td>\n",
       "      <td>37.583149</td>\n",
       "    </tr>\n",
       "    <tr>\n",
       "      <th>97</th>\n",
       "      <td>20676428</td>\n",
       "      <td>요거프레소</td>\n",
       "      <td>쌍문점</td>\n",
       "      <td>커피전문점/카페/다방</td>\n",
       "      <td>서울특별시</td>\n",
       "      <td>도봉구</td>\n",
       "      <td>쌍문2동</td>\n",
       "      <td>쌍문동</td>\n",
       "      <td>서울특별시 도봉구 쌍문동 20</td>\n",
       "      <td>NaN</td>\n",
       "      <td>서울특별시 도봉구 도당로 7, (쌍문동, 벽산프라자)</td>\n",
       "      <td>1385</td>\n",
       "      <td>1</td>\n",
       "      <td>127.034746</td>\n",
       "      <td>37.658728</td>\n",
       "    </tr>\n",
       "  </tbody>\n",
       "</table>\n",
       "</div>"
      ],
      "text/plain": [
       "      상가업소번호    상호명          지점명     상권업종소분류명    시도명 시군구명  행정동명  법정동명  \\\n",
       "20  20659878    커피빈  코리아대학로대명거리점  커피전문점/카페/다방  서울특별시  종로구   혜화동  명륜4가   \n",
       "97  20676428  요거프레소          쌍문점  커피전문점/카페/다방  서울특별시  도봉구  쌍문2동   쌍문동   \n",
       "\n",
       "                 지번주소  건물명                          도로명주소  신우편번호 층정보  \\\n",
       "20  서울특별시 종로구 명륜4가 51  NaN       서울특별시 종로구 대명길 25, (명륜4가)   3078   3   \n",
       "97   서울특별시 도봉구 쌍문동 20  NaN  서울특별시 도봉구 도당로 7, (쌍문동, 벽산프라자)   1385   1   \n",
       "\n",
       "            경도         위도  \n",
       "20  127.000171  37.583149  \n",
       "97  127.034746  37.658728  "
      ]
     },
     "execution_count": 86,
     "metadata": {},
     "output_type": "execute_result"
    }
   ],
   "source": [
    "tmp[:2]"
   ]
  },
  {
   "cell_type": "code",
   "execution_count": 87,
   "id": "ad69a96b-e238-401a-ab7c-3f7beaf33b12",
   "metadata": {},
   "outputs": [],
   "source": [
    "final = tmp[['상가업소번호','상호명','위도','경도','지점명','시도명','시군구명','행정동명','법정동명','도로명주소','신우편번호','층정보']]"
   ]
  },
  {
   "cell_type": "code",
   "execution_count": 88,
   "id": "398d999c-b7a1-4ad4-9d73-d892ef34f91c",
   "metadata": {},
   "outputs": [],
   "source": [
    "final.to_csv('cafe_data.csv',index=False)"
   ]
  },
  {
   "cell_type": "markdown",
   "id": "8b13cd72-9091-42af-a010-b6de326da7d5",
   "metadata": {},
   "source": [
    "# -----------------------------"
   ]
  },
  {
   "cell_type": "code",
   "execution_count": 47,
   "id": "e5a00f6a-cb0f-47c3-bacb-8dc0aab0a7fa",
   "metadata": {},
   "outputs": [
    {
     "data": {
      "text/plain": [
       "array(['건강/미용식품', '취미/오락관련소매', '시계/귀금속소매', '학원-보습교습입시', '한식', '유흥주점',\n",
       "       '학원-창업취업취미', '자동차/자동차용품', '부동산중개', '사진/광학/정밀기기소매', '도서관/독서실',\n",
       "       '커피점/카페', '대중목욕탕/휴게', '주유소/충전소', '패스트푸드', '닭/오리요리', '자동차/이륜차',\n",
       "       '선물/팬시/기념품', '이/미용/건강', '사무/문구/컴퓨터', '중식', 'PC/오락/당구/볼링등',\n",
       "       '음/식료품소매', '종합소매점', '세탁/가사서비스', '기타서비스업', '의복의류', '가방/신발/액세서리',\n",
       "       '양식', '제과제빵떡케익', '무도/유흥/가무', '가정/주방/인테리어', '운동/경기용품소매', '개인서비스',\n",
       "       '학원-예능취미체육', '학원기타', '가전제품소매', '유아교육', '물품기기대여', '학문교육기타', '기타판매업',\n",
       "       '사진', '분식', '화장품소매', '애견/애완/동물', '대행업', '철물/난방/건설자재소매',\n",
       "       '학원-음악미술무용', '별식/퓨전요리', '주택수리', '연극/영화/극장', '모텔/여관/여인숙', '호텔/콘도',\n",
       "       '실내운동시설', '의약/의료품소매', '실외운동시설', '학원-어학', '기타음식업', '광고/인쇄',\n",
       "       '예식/의례/관혼상제', '책/서적/도서', '가구소매', '요가/단전/마사지', '운송/배달/택배', '일식/수산물',\n",
       "       '개인/가정용품수리', '인력/고용/용역알선', '평가/개발/관리', '법무세무회계', '운영관리시설', '부페',\n",
       "       '중고품소매/교환', '장례/묘지', '분양', '예술품/골동품/수석/분재', '유아용품', '페인트/유리제품소매',\n",
       "       '행사/이벤트', '스포츠/운동', '음식배달서비스', '놀이/여가/취미', '종교용품판매', '민박/하숙',\n",
       "       '경마/경륜/성인오락', '학원-자격/국가고시', '학원-컴퓨터', '캠프/별장/펜션', '부동산관련서비스',\n",
       "       '유스호스텔'], dtype=object)"
      ]
     },
     "execution_count": 47,
     "metadata": {},
     "output_type": "execute_result"
    }
   ],
   "source": [
    "store['상권업종중분류명'].unique()"
   ]
  },
  {
   "cell_type": "code",
   "execution_count": 68,
   "id": "780c709e-a5b9-429f-82d3-086ff16d8c23",
   "metadata": {},
   "outputs": [],
   "source": [
    "s2 = store[(store['상권업종소분류명']=='편의점')]"
   ]
  },
  {
   "cell_type": "code",
   "execution_count": 69,
   "id": "fb2b7d1e-3185-4293-9d95-d652c9348a96",
   "metadata": {},
   "outputs": [],
   "source": [
    "s3 = store[(store['상권업종소분류명']=='수퍼마켓')]"
   ]
  },
  {
   "cell_type": "code",
   "execution_count": 70,
   "id": "f999c484-a983-46d2-b22e-75cbb401ad51",
   "metadata": {},
   "outputs": [
    {
     "data": {
      "text/plain": [
       "(7201, 39)"
      ]
     },
     "execution_count": 70,
     "metadata": {},
     "output_type": "execute_result"
    }
   ],
   "source": [
    "s2.shape"
   ]
  },
  {
   "cell_type": "code",
   "execution_count": 71,
   "id": "43d7ad00-d2a0-413a-905e-43f0ebd7d0bd",
   "metadata": {},
   "outputs": [
    {
     "data": {
      "text/plain": [
       "(3562, 39)"
      ]
     },
     "execution_count": 71,
     "metadata": {},
     "output_type": "execute_result"
    }
   ],
   "source": [
    "s3.shape"
   ]
  },
  {
   "cell_type": "code",
   "execution_count": 79,
   "id": "75308a0e-1de4-4373-8ff1-cfcb622c53ae",
   "metadata": {},
   "outputs": [],
   "source": [
    "tmp = s2[['상가업소번호','상호명','위도','경도','지점명','상권업종소분류명','시도명','시군구명','행정동명','법정동명','도로명주소','신우편번호','층정보']]"
   ]
  },
  {
   "cell_type": "code",
   "execution_count": 80,
   "id": "73b16af3-9ee4-4406-b42d-d1f63156ad8d",
   "metadata": {},
   "outputs": [
    {
     "data": {
      "text/html": [
       "<div>\n",
       "<style scoped>\n",
       "    .dataframe tbody tr th:only-of-type {\n",
       "        vertical-align: middle;\n",
       "    }\n",
       "\n",
       "    .dataframe tbody tr th {\n",
       "        vertical-align: top;\n",
       "    }\n",
       "\n",
       "    .dataframe thead th {\n",
       "        text-align: right;\n",
       "    }\n",
       "</style>\n",
       "<table border=\"1\" class=\"dataframe\">\n",
       "  <thead>\n",
       "    <tr style=\"text-align: right;\">\n",
       "      <th></th>\n",
       "      <th>상가업소번호</th>\n",
       "      <th>상호명</th>\n",
       "      <th>위도</th>\n",
       "      <th>경도</th>\n",
       "      <th>지점명</th>\n",
       "      <th>상권업종소분류명</th>\n",
       "      <th>시도명</th>\n",
       "      <th>시군구명</th>\n",
       "      <th>행정동명</th>\n",
       "      <th>법정동명</th>\n",
       "      <th>도로명주소</th>\n",
       "      <th>신우편번호</th>\n",
       "      <th>층정보</th>\n",
       "    </tr>\n",
       "  </thead>\n",
       "  <tbody>\n",
       "    <tr>\n",
       "      <th>39</th>\n",
       "      <td>28516285</td>\n",
       "      <td>러쉬</td>\n",
       "      <td>37.608392</td>\n",
       "      <td>127.028726</td>\n",
       "      <td>현대백화점미아점</td>\n",
       "      <td>편의점</td>\n",
       "      <td>서울특별시</td>\n",
       "      <td>성북구</td>\n",
       "      <td>길음2동</td>\n",
       "      <td>길음동</td>\n",
       "      <td>서울특별시 성북구 동소문로 315, (길음동)</td>\n",
       "      <td>2730</td>\n",
       "      <td>NaN</td>\n",
       "    </tr>\n",
       "    <tr>\n",
       "      <th>53</th>\n",
       "      <td>11708960</td>\n",
       "      <td>울시</td>\n",
       "      <td>37.490538</td>\n",
       "      <td>126.925066</td>\n",
       "      <td>롯데관악점</td>\n",
       "      <td>편의점</td>\n",
       "      <td>서울특별시</td>\n",
       "      <td>관악구</td>\n",
       "      <td>보라매동</td>\n",
       "      <td>봉천동</td>\n",
       "      <td>서울특별시 관악구 보라매로3길 31, (봉천동, 보라매롯데캐슬)</td>\n",
       "      <td>8708</td>\n",
       "      <td>NaN</td>\n",
       "    </tr>\n",
       "    <tr>\n",
       "      <th>59</th>\n",
       "      <td>28518797</td>\n",
       "      <td>오리고</td>\n",
       "      <td>37.608392</td>\n",
       "      <td>127.028726</td>\n",
       "      <td>현대백화점미아점</td>\n",
       "      <td>편의점</td>\n",
       "      <td>서울특별시</td>\n",
       "      <td>성북구</td>\n",
       "      <td>길음2동</td>\n",
       "      <td>길음동</td>\n",
       "      <td>서울특별시 성북구 동소문로 315, (길음동)</td>\n",
       "      <td>2730</td>\n",
       "      <td>NaN</td>\n",
       "    </tr>\n",
       "  </tbody>\n",
       "</table>\n",
       "</div>"
      ],
      "text/plain": [
       "      상가업소번호  상호명         위도          경도       지점명 상권업종소분류명    시도명 시군구명  행정동명  \\\n",
       "39  28516285   러쉬  37.608392  127.028726  현대백화점미아점      편의점  서울특별시  성북구  길음2동   \n",
       "53  11708960   울시  37.490538  126.925066     롯데관악점      편의점  서울특별시  관악구  보라매동   \n",
       "59  28518797  오리고  37.608392  127.028726  현대백화점미아점      편의점  서울특별시  성북구  길음2동   \n",
       "\n",
       "   법정동명                                도로명주소  신우편번호  층정보  \n",
       "39  길음동            서울특별시 성북구 동소문로 315, (길음동)   2730  NaN  \n",
       "53  봉천동  서울특별시 관악구 보라매로3길 31, (봉천동, 보라매롯데캐슬)   8708  NaN  \n",
       "59  길음동            서울특별시 성북구 동소문로 315, (길음동)   2730  NaN  "
      ]
     },
     "execution_count": 80,
     "metadata": {},
     "output_type": "execute_result"
    }
   ],
   "source": [
    "tmp[:3]"
   ]
  },
  {
   "cell_type": "code",
   "execution_count": 81,
   "id": "db608055-2573-4fa4-b541-92d4f0fb0f95",
   "metadata": {},
   "outputs": [],
   "source": [
    "tmp.to_csv('cs_data.csv',index=False)"
   ]
  },
  {
   "cell_type": "code",
   "execution_count": 91,
   "id": "a766d170-c472-4f88-8633-0152a9dbcc05",
   "metadata": {},
   "outputs": [],
   "source": [
    "tmp = s3[['상가업소번호','상호명','위도','경도','지점명','상권업종소분류명','시도명','시군구명','행정동명','법정동명','도로명주소','신우편번호','층정보']]"
   ]
  },
  {
   "cell_type": "code",
   "execution_count": 93,
   "id": "a6c6e291-0253-4920-9dd2-334f444e90c4",
   "metadata": {},
   "outputs": [],
   "source": [
    "tmp.to_csv('mart_data.csv',index=False)"
   ]
  },
  {
   "cell_type": "code",
   "execution_count": 53,
   "id": "5bd766a7-89b6-4ed6-8abe-d7276f62e63c",
   "metadata": {},
   "outputs": [
    {
     "data": {
      "text/plain": [
       "array(['편의점', '수퍼마켓', '종합소매', '백화점', '생활용품판매', '할인점', '잡화점', '수입품판매점',\n",
       "       '구판장/직판장', '시장/종합상가', '아케이드/쇼핑센타', '면세백화점', '조합/연금매장', '어판장',\n",
       "       '혼수전문점'], dtype=object)"
      ]
     },
     "execution_count": 53,
     "metadata": {},
     "output_type": "execute_result"
    }
   ],
   "source": [
    "store[store['상권업종중분류명']=='종합소매점']['상권업종소분류명'].unique()"
   ]
  },
  {
   "cell_type": "code",
   "execution_count": 49,
   "id": "23f4ef4e-8c27-43fd-a1b1-89b9529a7e85",
   "metadata": {},
   "outputs": [
    {
     "data": {
      "text/plain": [
       "array(['세탁소/빨래방', '청소/소독', '방앗간/정미소', '솜틀집', '신발세탁', '소파침대카펫트세탁', '세탁대행',\n",
       "       '냉온수기소독/수리', '가죽모피세탁'], dtype=object)"
      ]
     },
     "execution_count": 49,
     "metadata": {},
     "output_type": "execute_result"
    }
   ],
   "source": [
    "store[store['상권업종중분류명']=='세탁/가사서비스']['상권업종소분류명'].unique()"
   ]
  },
  {
   "cell_type": "markdown",
   "id": "6f96aeac-44aa-4438-88a9-8c13643e6608",
   "metadata": {},
   "source": [
    "# -----------------------------"
   ]
  },
  {
   "cell_type": "code",
   "execution_count": 19,
   "id": "d1e7ac5b-2c90-432b-8010-38ad6ad5950f",
   "metadata": {},
   "outputs": [],
   "source": [
    "# store['표준산업분류명'].unique()"
   ]
  },
  {
   "cell_type": "code",
   "execution_count": 18,
   "id": "73f34783-8c32-4feb-b384-881eeedd8086",
   "metadata": {},
   "outputs": [
    {
     "data": {
      "text/plain": [
       "array(['보드게임카페', '생과일주스전문점', '전통찻집/인삼찻집', '사주카페', '애견카페'], dtype=object)"
      ]
     },
     "execution_count": 18,
     "metadata": {},
     "output_type": "execute_result"
    }
   ],
   "source": [
    "store[(store['상권업종중분류명']=='커피점/카페')&(store['상권업종소분류명']!='커피전문점/카페/다방')]['상권업종소분류명'].unique()"
   ]
  },
  {
   "cell_type": "code",
   "execution_count": 32,
   "id": "2a6f5992-8e0d-4c8d-81ee-f69f9f587c32",
   "metadata": {},
   "outputs": [
    {
     "data": {
      "text/plain": [
       "(20125, 39)"
      ]
     },
     "execution_count": 32,
     "metadata": {},
     "output_type": "execute_result"
    }
   ],
   "source": [
    "store[store['상권업종소분류명']=='커피전문점/카페/다방'].shape"
   ]
  }
 ],
 "metadata": {
  "kernelspec": {
   "display_name": "Python 3 (ipykernel)",
   "language": "python",
   "name": "python3"
  },
  "language_info": {
   "codemirror_mode": {
    "name": "ipython",
    "version": 3
   },
   "file_extension": ".py",
   "mimetype": "text/x-python",
   "name": "python",
   "nbconvert_exporter": "python",
   "pygments_lexer": "ipython3",
   "version": "3.8.5"
  }
 },
 "nbformat": 4,
 "nbformat_minor": 5
}
