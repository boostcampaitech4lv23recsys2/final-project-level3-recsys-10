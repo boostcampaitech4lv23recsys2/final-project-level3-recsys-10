{
 "cells": [
  {
   "cell_type": "code",
   "execution_count": 1,
   "metadata": {},
   "outputs": [],
   "source": [
    "import pandas as pd\n",
    "import numpy as np\n",
    "\n",
    "import matplotlib.pyplot as plt\n",
    "from haversine import  haversine, Unit\n",
    "from tqdm import tqdm"
   ]
  },
  {
   "cell_type": "code",
   "execution_count": 20,
   "metadata": {},
   "outputs": [],
   "source": [
    "VERSION = '1.1'"
   ]
  },
  {
   "cell_type": "code",
   "execution_count": 2,
   "metadata": {},
   "outputs": [],
   "source": [
    "data_path = '../data/'\n",
    "basic_df = pd.read_csv(data_path+'basic_data.csv')\n",
    "pharmacy_df = pd.read_csv(data_path+'pharmacy_data.csv')"
   ]
  },
  {
   "cell_type": "code",
   "execution_count": 3,
   "metadata": {},
   "outputs": [
    {
     "data": {
      "text/html": [
       "<div>\n",
       "<style scoped>\n",
       "    .dataframe tbody tr th:only-of-type {\n",
       "        vertical-align: middle;\n",
       "    }\n",
       "\n",
       "    .dataframe tbody tr th {\n",
       "        vertical-align: top;\n",
       "    }\n",
       "\n",
       "    .dataframe thead th {\n",
       "        text-align: right;\n",
       "    }\n",
       "</style>\n",
       "<table border=\"1\" class=\"dataframe\">\n",
       "  <thead>\n",
       "    <tr style=\"text-align: right;\">\n",
       "      <th></th>\n",
       "      <th>관리번호</th>\n",
       "      <th>사업장명</th>\n",
       "      <th>도로명주소</th>\n",
       "      <th>전화번호</th>\n",
       "      <th>약국영업면적</th>\n",
       "      <th>인허가일자</th>\n",
       "      <th>영업상태코드</th>\n",
       "      <th>위도</th>\n",
       "      <th>경도</th>\n",
       "    </tr>\n",
       "  </thead>\n",
       "  <tbody>\n",
       "    <tr>\n",
       "      <th>0</th>\n",
       "      <td>PHMD120223060034084000006</td>\n",
       "      <td>연세파란약국</td>\n",
       "      <td>서울특별시 중랑구 동일로 645</td>\n",
       "      <td>02-493-8856</td>\n",
       "      <td>NaN</td>\n",
       "      <td>20221017</td>\n",
       "      <td>1</td>\n",
       "      <td>37.598654</td>\n",
       "      <td>127.079870</td>\n",
       "    </tr>\n",
       "    <tr>\n",
       "      <th>1</th>\n",
       "      <td>PHMD120223240033084000019</td>\n",
       "      <td>더조은약국</td>\n",
       "      <td>서울특별시 강동구 상암로 41</td>\n",
       "      <td>02-428-2588</td>\n",
       "      <td>NaN</td>\n",
       "      <td>20221017</td>\n",
       "      <td>1</td>\n",
       "      <td>37.546710</td>\n",
       "      <td>127.150220</td>\n",
       "    </tr>\n",
       "    <tr>\n",
       "      <th>2</th>\n",
       "      <td>PHMD120223160034084000006</td>\n",
       "      <td>봄약국</td>\n",
       "      <td>서울특별시 구로구 경인로 204</td>\n",
       "      <td>02-2617-7773</td>\n",
       "      <td>NaN</td>\n",
       "      <td>20220415</td>\n",
       "      <td>1</td>\n",
       "      <td>37.507898</td>\n",
       "      <td>126.886101</td>\n",
       "    </tr>\n",
       "    <tr>\n",
       "      <th>3</th>\n",
       "      <td>PHMD120223220033084000026</td>\n",
       "      <td>청담소망약국</td>\n",
       "      <td>서울특별시 강남구 학동로 417</td>\n",
       "      <td>NaN</td>\n",
       "      <td>NaN</td>\n",
       "      <td>20221018</td>\n",
       "      <td>1</td>\n",
       "      <td>37.513421</td>\n",
       "      <td>127.028583</td>\n",
       "    </tr>\n",
       "    <tr>\n",
       "      <th>4</th>\n",
       "      <td>PHMD120223120033084000004</td>\n",
       "      <td>참조은약국</td>\n",
       "      <td>서울특별시 서대문구 홍은중앙로8길 20</td>\n",
       "      <td>02-396-3885</td>\n",
       "      <td>NaN</td>\n",
       "      <td>20221018</td>\n",
       "      <td>1</td>\n",
       "      <td>37.598882</td>\n",
       "      <td>126.948222</td>\n",
       "    </tr>\n",
       "    <tr>\n",
       "      <th>...</th>\n",
       "      <td>...</td>\n",
       "      <td>...</td>\n",
       "      <td>...</td>\n",
       "      <td>...</td>\n",
       "      <td>...</td>\n",
       "      <td>...</td>\n",
       "      <td>...</td>\n",
       "      <td>...</td>\n",
       "      <td>...</td>\n",
       "    </tr>\n",
       "    <tr>\n",
       "      <th>5494</th>\n",
       "      <td>PHMD120223190033084000005</td>\n",
       "      <td>새사랑약국</td>\n",
       "      <td>서울특별시 동작구 서달로 150</td>\n",
       "      <td>NaN</td>\n",
       "      <td>NaN</td>\n",
       "      <td>20220930</td>\n",
       "      <td>1</td>\n",
       "      <td>37.508051</td>\n",
       "      <td>126.963012</td>\n",
       "    </tr>\n",
       "    <tr>\n",
       "      <th>5495</th>\n",
       "      <td>PHMD120183180034084000015</td>\n",
       "      <td>맑은수약국</td>\n",
       "      <td>서울특별시 영등포구 여의대방로 65</td>\n",
       "      <td>02-843-2008</td>\n",
       "      <td>NaN</td>\n",
       "      <td>20180423</td>\n",
       "      <td>1</td>\n",
       "      <td>37.521644</td>\n",
       "      <td>126.935753</td>\n",
       "    </tr>\n",
       "    <tr>\n",
       "      <th>5496</th>\n",
       "      <td>PHMD120223050034084000009</td>\n",
       "      <td>유원당약국</td>\n",
       "      <td>서울특별시 동대문구 약령중앙로4길 9</td>\n",
       "      <td>02-962-8600</td>\n",
       "      <td>NaN</td>\n",
       "      <td>20221013</td>\n",
       "      <td>1</td>\n",
       "      <td>37.579879</td>\n",
       "      <td>127.037854</td>\n",
       "    </tr>\n",
       "    <tr>\n",
       "      <th>5497</th>\n",
       "      <td>PHMD120223050034084000010</td>\n",
       "      <td>보문한약국</td>\n",
       "      <td>서울특별시 동대문구 약령중앙로 11</td>\n",
       "      <td>02-969-0545</td>\n",
       "      <td>NaN</td>\n",
       "      <td>20221013</td>\n",
       "      <td>1</td>\n",
       "      <td>37.580354</td>\n",
       "      <td>127.037881</td>\n",
       "    </tr>\n",
       "    <tr>\n",
       "      <th>5498</th>\n",
       "      <td>PHMD120213210034084000027</td>\n",
       "      <td>온약국</td>\n",
       "      <td>서울특별시 서초구 강남대로 213</td>\n",
       "      <td>070-8691-1260</td>\n",
       "      <td>NaN</td>\n",
       "      <td>20211101</td>\n",
       "      <td>1</td>\n",
       "      <td>37.511108</td>\n",
       "      <td>127.021174</td>\n",
       "    </tr>\n",
       "  </tbody>\n",
       "</table>\n",
       "<p>5499 rows × 9 columns</p>\n",
       "</div>"
      ],
      "text/plain": [
       "                           관리번호    사업장명                  도로명주소           전화번호  \\\n",
       "0     PHMD120223060034084000006  연세파란약국      서울특별시 중랑구 동일로 645    02-493-8856   \n",
       "1     PHMD120223240033084000019   더조은약국       서울특별시 강동구 상암로 41    02-428-2588   \n",
       "2     PHMD120223160034084000006     봄약국      서울특별시 구로구 경인로 204   02-2617-7773   \n",
       "3     PHMD120223220033084000026  청담소망약국      서울특별시 강남구 학동로 417            NaN   \n",
       "4     PHMD120223120033084000004   참조은약국  서울특별시 서대문구 홍은중앙로8길 20    02-396-3885   \n",
       "...                         ...     ...                    ...            ...   \n",
       "5494  PHMD120223190033084000005   새사랑약국      서울특별시 동작구 서달로 150            NaN   \n",
       "5495  PHMD120183180034084000015   맑은수약국    서울특별시 영등포구 여의대방로 65    02-843-2008   \n",
       "5496  PHMD120223050034084000009   유원당약국   서울특별시 동대문구 약령중앙로4길 9    02-962-8600   \n",
       "5497  PHMD120223050034084000010   보문한약국    서울특별시 동대문구 약령중앙로 11    02-969-0545   \n",
       "5498  PHMD120213210034084000027     온약국     서울특별시 서초구 강남대로 213  070-8691-1260   \n",
       "\n",
       "      약국영업면적     인허가일자  영업상태코드         위도          경도  \n",
       "0        NaN  20221017       1  37.598654  127.079870  \n",
       "1        NaN  20221017       1  37.546710  127.150220  \n",
       "2        NaN  20220415       1  37.507898  126.886101  \n",
       "3        NaN  20221018       1  37.513421  127.028583  \n",
       "4        NaN  20221018       1  37.598882  126.948222  \n",
       "...      ...       ...     ...        ...         ...  \n",
       "5494     NaN  20220930       1  37.508051  126.963012  \n",
       "5495     NaN  20180423       1  37.521644  126.935753  \n",
       "5496     NaN  20221013       1  37.579879  127.037854  \n",
       "5497     NaN  20221013       1  37.580354  127.037881  \n",
       "5498     NaN  20211101       1  37.511108  127.021174  \n",
       "\n",
       "[5499 rows x 9 columns]"
      ]
     },
     "execution_count": 3,
     "metadata": {},
     "output_type": "execute_result"
    }
   ],
   "source": [
    "pharmacy_df"
   ]
  },
  {
   "attachments": {},
   "cell_type": "markdown",
   "metadata": {},
   "source": [
    "### 사업장명에서 '약국' 포함하지 않은 명칭이 있는지 확인"
   ]
  },
  {
   "cell_type": "code",
   "execution_count": 4,
   "metadata": {},
   "outputs": [],
   "source": [
    "name = pharmacy_df['사업장명'].unique()\n",
    "for n in name:\n",
    "    if '약국' not in n:\n",
    "        print(n)"
   ]
  },
  {
   "attachments": {},
   "cell_type": "markdown",
   "metadata": {},
   "source": [
    "### 도로명 주소 중복 제거"
   ]
  },
  {
   "cell_type": "code",
   "execution_count": 5,
   "metadata": {},
   "outputs": [
    {
     "data": {
      "text/plain": [
       "서울특별시 송파구 송파대로 345    12\n",
       "서울특별시 강남구 일원로 95       9\n",
       "서울특별시 성동구 왕십리로 410     9\n",
       "서울특별시 송파구 올림픽로 119     8\n",
       "서울특별시 종로구 종로 19        6\n",
       "                      ..\n",
       "서울특별시 노원구 화랑로 321      1\n",
       "서울특별시 노원구 덕릉로 779      1\n",
       "서울특별시 노원구 중계로 120      1\n",
       "서울특별시 노원구 동일로 1280     1\n",
       "서울특별시 서초구 강남대로 213     1\n",
       "Name: 도로명주소, Length: 5024, dtype: int64"
      ]
     },
     "execution_count": 5,
     "metadata": {},
     "output_type": "execute_result"
    }
   ],
   "source": [
    "pharmacy_df['도로명주소'].value_counts()"
   ]
  },
  {
   "cell_type": "code",
   "execution_count": 6,
   "metadata": {},
   "outputs": [],
   "source": [
    "pharmacy_df.drop_duplicates(subset='도로명주소', inplace=True)"
   ]
  },
  {
   "cell_type": "code",
   "execution_count": 7,
   "metadata": {},
   "outputs": [
    {
     "data": {
      "text/html": [
       "<div>\n",
       "<style scoped>\n",
       "    .dataframe tbody tr th:only-of-type {\n",
       "        vertical-align: middle;\n",
       "    }\n",
       "\n",
       "    .dataframe tbody tr th {\n",
       "        vertical-align: top;\n",
       "    }\n",
       "\n",
       "    .dataframe thead th {\n",
       "        text-align: right;\n",
       "    }\n",
       "</style>\n",
       "<table border=\"1\" class=\"dataframe\">\n",
       "  <thead>\n",
       "    <tr style=\"text-align: right;\">\n",
       "      <th></th>\n",
       "      <th>관리번호</th>\n",
       "      <th>사업장명</th>\n",
       "      <th>도로명주소</th>\n",
       "      <th>전화번호</th>\n",
       "      <th>약국영업면적</th>\n",
       "      <th>인허가일자</th>\n",
       "      <th>영업상태코드</th>\n",
       "      <th>위도</th>\n",
       "      <th>경도</th>\n",
       "    </tr>\n",
       "  </thead>\n",
       "  <tbody>\n",
       "    <tr>\n",
       "      <th>0</th>\n",
       "      <td>PHMD120223060034084000006</td>\n",
       "      <td>연세파란약국</td>\n",
       "      <td>서울특별시 중랑구 동일로 645</td>\n",
       "      <td>02-493-8856</td>\n",
       "      <td>NaN</td>\n",
       "      <td>20221017</td>\n",
       "      <td>1</td>\n",
       "      <td>37.598654</td>\n",
       "      <td>127.079870</td>\n",
       "    </tr>\n",
       "    <tr>\n",
       "      <th>1</th>\n",
       "      <td>PHMD120223240033084000019</td>\n",
       "      <td>더조은약국</td>\n",
       "      <td>서울특별시 강동구 상암로 41</td>\n",
       "      <td>02-428-2588</td>\n",
       "      <td>NaN</td>\n",
       "      <td>20221017</td>\n",
       "      <td>1</td>\n",
       "      <td>37.546710</td>\n",
       "      <td>127.150220</td>\n",
       "    </tr>\n",
       "    <tr>\n",
       "      <th>2</th>\n",
       "      <td>PHMD120223160034084000006</td>\n",
       "      <td>봄약국</td>\n",
       "      <td>서울특별시 구로구 경인로 204</td>\n",
       "      <td>02-2617-7773</td>\n",
       "      <td>NaN</td>\n",
       "      <td>20220415</td>\n",
       "      <td>1</td>\n",
       "      <td>37.507898</td>\n",
       "      <td>126.886101</td>\n",
       "    </tr>\n",
       "    <tr>\n",
       "      <th>3</th>\n",
       "      <td>PHMD120223220033084000026</td>\n",
       "      <td>청담소망약국</td>\n",
       "      <td>서울특별시 강남구 학동로 417</td>\n",
       "      <td>NaN</td>\n",
       "      <td>NaN</td>\n",
       "      <td>20221018</td>\n",
       "      <td>1</td>\n",
       "      <td>37.513421</td>\n",
       "      <td>127.028583</td>\n",
       "    </tr>\n",
       "    <tr>\n",
       "      <th>4</th>\n",
       "      <td>PHMD120223120033084000004</td>\n",
       "      <td>참조은약국</td>\n",
       "      <td>서울특별시 서대문구 홍은중앙로8길 20</td>\n",
       "      <td>02-396-3885</td>\n",
       "      <td>NaN</td>\n",
       "      <td>20221018</td>\n",
       "      <td>1</td>\n",
       "      <td>37.598882</td>\n",
       "      <td>126.948222</td>\n",
       "    </tr>\n",
       "    <tr>\n",
       "      <th>...</th>\n",
       "      <td>...</td>\n",
       "      <td>...</td>\n",
       "      <td>...</td>\n",
       "      <td>...</td>\n",
       "      <td>...</td>\n",
       "      <td>...</td>\n",
       "      <td>...</td>\n",
       "      <td>...</td>\n",
       "      <td>...</td>\n",
       "    </tr>\n",
       "    <tr>\n",
       "      <th>5490</th>\n",
       "      <td>PHMD120203050034084000015</td>\n",
       "      <td>바다약국</td>\n",
       "      <td>서울특별시 동대문구 왕산로 189-1</td>\n",
       "      <td>02-957-1110</td>\n",
       "      <td>NaN</td>\n",
       "      <td>20201103</td>\n",
       "      <td>1</td>\n",
       "      <td>37.580055</td>\n",
       "      <td>127.044136</td>\n",
       "    </tr>\n",
       "    <tr>\n",
       "      <th>5492</th>\n",
       "      <td>PHMD120183140033084000009</td>\n",
       "      <td>드림약국</td>\n",
       "      <td>서울특별시 양천구 목동서로 256</td>\n",
       "      <td>02-2654-9503</td>\n",
       "      <td>NaN</td>\n",
       "      <td>20180601</td>\n",
       "      <td>1</td>\n",
       "      <td>37.539034</td>\n",
       "      <td>126.885272</td>\n",
       "    </tr>\n",
       "    <tr>\n",
       "      <th>5493</th>\n",
       "      <td>PHMD120223080033084000010</td>\n",
       "      <td>새서울약국</td>\n",
       "      <td>서울특별시 강북구 솔샘로 223</td>\n",
       "      <td>02-981-8215</td>\n",
       "      <td>NaN</td>\n",
       "      <td>20221011</td>\n",
       "      <td>1</td>\n",
       "      <td>37.619466</td>\n",
       "      <td>127.010397</td>\n",
       "    </tr>\n",
       "    <tr>\n",
       "      <th>5495</th>\n",
       "      <td>PHMD120183180034084000015</td>\n",
       "      <td>맑은수약국</td>\n",
       "      <td>서울특별시 영등포구 여의대방로 65</td>\n",
       "      <td>02-843-2008</td>\n",
       "      <td>NaN</td>\n",
       "      <td>20180423</td>\n",
       "      <td>1</td>\n",
       "      <td>37.521644</td>\n",
       "      <td>126.935753</td>\n",
       "    </tr>\n",
       "    <tr>\n",
       "      <th>5498</th>\n",
       "      <td>PHMD120213210034084000027</td>\n",
       "      <td>온약국</td>\n",
       "      <td>서울특별시 서초구 강남대로 213</td>\n",
       "      <td>070-8691-1260</td>\n",
       "      <td>NaN</td>\n",
       "      <td>20211101</td>\n",
       "      <td>1</td>\n",
       "      <td>37.511108</td>\n",
       "      <td>127.021174</td>\n",
       "    </tr>\n",
       "  </tbody>\n",
       "</table>\n",
       "<p>5024 rows × 9 columns</p>\n",
       "</div>"
      ],
      "text/plain": [
       "                           관리번호    사업장명                  도로명주소           전화번호  \\\n",
       "0     PHMD120223060034084000006  연세파란약국      서울특별시 중랑구 동일로 645    02-493-8856   \n",
       "1     PHMD120223240033084000019   더조은약국       서울특별시 강동구 상암로 41    02-428-2588   \n",
       "2     PHMD120223160034084000006     봄약국      서울특별시 구로구 경인로 204   02-2617-7773   \n",
       "3     PHMD120223220033084000026  청담소망약국      서울특별시 강남구 학동로 417            NaN   \n",
       "4     PHMD120223120033084000004   참조은약국  서울특별시 서대문구 홍은중앙로8길 20    02-396-3885   \n",
       "...                         ...     ...                    ...            ...   \n",
       "5490  PHMD120203050034084000015    바다약국   서울특별시 동대문구 왕산로 189-1    02-957-1110   \n",
       "5492  PHMD120183140033084000009    드림약국     서울특별시 양천구 목동서로 256   02-2654-9503   \n",
       "5493  PHMD120223080033084000010   새서울약국      서울특별시 강북구 솔샘로 223    02-981-8215   \n",
       "5495  PHMD120183180034084000015   맑은수약국    서울특별시 영등포구 여의대방로 65    02-843-2008   \n",
       "5498  PHMD120213210034084000027     온약국     서울특별시 서초구 강남대로 213  070-8691-1260   \n",
       "\n",
       "      약국영업면적     인허가일자  영업상태코드         위도          경도  \n",
       "0        NaN  20221017       1  37.598654  127.079870  \n",
       "1        NaN  20221017       1  37.546710  127.150220  \n",
       "2        NaN  20220415       1  37.507898  126.886101  \n",
       "3        NaN  20221018       1  37.513421  127.028583  \n",
       "4        NaN  20221018       1  37.598882  126.948222  \n",
       "...      ...       ...     ...        ...         ...  \n",
       "5490     NaN  20201103       1  37.580055  127.044136  \n",
       "5492     NaN  20180601       1  37.539034  126.885272  \n",
       "5493     NaN  20221011       1  37.619466  127.010397  \n",
       "5495     NaN  20180423       1  37.521644  126.935753  \n",
       "5498     NaN  20211101       1  37.511108  127.021174  \n",
       "\n",
       "[5024 rows x 9 columns]"
      ]
     },
     "execution_count": 7,
     "metadata": {},
     "output_type": "execute_result"
    }
   ],
   "source": [
    "pharmacy_df"
   ]
  },
  {
   "attachments": {},
   "cell_type": "markdown",
   "metadata": {},
   "source": [
    "### 전화번호"
   ]
  },
  {
   "cell_type": "code",
   "execution_count": 8,
   "metadata": {},
   "outputs": [
    {
     "data": {
      "text/plain": [
       "185"
      ]
     },
     "execution_count": 8,
     "metadata": {},
     "output_type": "execute_result"
    }
   ],
   "source": [
    "pharmacy_df['전화번호'].isna().sum()"
   ]
  },
  {
   "cell_type": "code",
   "execution_count": 9,
   "metadata": {},
   "outputs": [],
   "source": [
    "pharmacy_df.loc[pharmacy_df[pharmacy_df['전화번호'].isna()==True].index, '전화번호'] = '없음'"
   ]
  },
  {
   "cell_type": "code",
   "execution_count": 10,
   "metadata": {},
   "outputs": [
    {
     "data": {
      "text/html": [
       "<div>\n",
       "<style scoped>\n",
       "    .dataframe tbody tr th:only-of-type {\n",
       "        vertical-align: middle;\n",
       "    }\n",
       "\n",
       "    .dataframe tbody tr th {\n",
       "        vertical-align: top;\n",
       "    }\n",
       "\n",
       "    .dataframe thead th {\n",
       "        text-align: right;\n",
       "    }\n",
       "</style>\n",
       "<table border=\"1\" class=\"dataframe\">\n",
       "  <thead>\n",
       "    <tr style=\"text-align: right;\">\n",
       "      <th></th>\n",
       "      <th>관리번호</th>\n",
       "      <th>사업장명</th>\n",
       "      <th>도로명주소</th>\n",
       "      <th>전화번호</th>\n",
       "      <th>약국영업면적</th>\n",
       "      <th>인허가일자</th>\n",
       "      <th>영업상태코드</th>\n",
       "      <th>위도</th>\n",
       "      <th>경도</th>\n",
       "    </tr>\n",
       "  </thead>\n",
       "  <tbody>\n",
       "    <tr>\n",
       "      <th>0</th>\n",
       "      <td>PHMD120223060034084000006</td>\n",
       "      <td>연세파란약국</td>\n",
       "      <td>서울특별시 중랑구 동일로 645</td>\n",
       "      <td>02-493-8856</td>\n",
       "      <td>NaN</td>\n",
       "      <td>20221017</td>\n",
       "      <td>1</td>\n",
       "      <td>37.598654</td>\n",
       "      <td>127.079870</td>\n",
       "    </tr>\n",
       "    <tr>\n",
       "      <th>1</th>\n",
       "      <td>PHMD120223240033084000019</td>\n",
       "      <td>더조은약국</td>\n",
       "      <td>서울특별시 강동구 상암로 41</td>\n",
       "      <td>02-428-2588</td>\n",
       "      <td>NaN</td>\n",
       "      <td>20221017</td>\n",
       "      <td>1</td>\n",
       "      <td>37.546710</td>\n",
       "      <td>127.150220</td>\n",
       "    </tr>\n",
       "    <tr>\n",
       "      <th>2</th>\n",
       "      <td>PHMD120223160034084000006</td>\n",
       "      <td>봄약국</td>\n",
       "      <td>서울특별시 구로구 경인로 204</td>\n",
       "      <td>02-2617-7773</td>\n",
       "      <td>NaN</td>\n",
       "      <td>20220415</td>\n",
       "      <td>1</td>\n",
       "      <td>37.507898</td>\n",
       "      <td>126.886101</td>\n",
       "    </tr>\n",
       "    <tr>\n",
       "      <th>3</th>\n",
       "      <td>PHMD120223220033084000026</td>\n",
       "      <td>청담소망약국</td>\n",
       "      <td>서울특별시 강남구 학동로 417</td>\n",
       "      <td>없음</td>\n",
       "      <td>NaN</td>\n",
       "      <td>20221018</td>\n",
       "      <td>1</td>\n",
       "      <td>37.513421</td>\n",
       "      <td>127.028583</td>\n",
       "    </tr>\n",
       "    <tr>\n",
       "      <th>4</th>\n",
       "      <td>PHMD120223120033084000004</td>\n",
       "      <td>참조은약국</td>\n",
       "      <td>서울특별시 서대문구 홍은중앙로8길 20</td>\n",
       "      <td>02-396-3885</td>\n",
       "      <td>NaN</td>\n",
       "      <td>20221018</td>\n",
       "      <td>1</td>\n",
       "      <td>37.598882</td>\n",
       "      <td>126.948222</td>\n",
       "    </tr>\n",
       "    <tr>\n",
       "      <th>...</th>\n",
       "      <td>...</td>\n",
       "      <td>...</td>\n",
       "      <td>...</td>\n",
       "      <td>...</td>\n",
       "      <td>...</td>\n",
       "      <td>...</td>\n",
       "      <td>...</td>\n",
       "      <td>...</td>\n",
       "      <td>...</td>\n",
       "    </tr>\n",
       "    <tr>\n",
       "      <th>5490</th>\n",
       "      <td>PHMD120203050034084000015</td>\n",
       "      <td>바다약국</td>\n",
       "      <td>서울특별시 동대문구 왕산로 189-1</td>\n",
       "      <td>02-957-1110</td>\n",
       "      <td>NaN</td>\n",
       "      <td>20201103</td>\n",
       "      <td>1</td>\n",
       "      <td>37.580055</td>\n",
       "      <td>127.044136</td>\n",
       "    </tr>\n",
       "    <tr>\n",
       "      <th>5492</th>\n",
       "      <td>PHMD120183140033084000009</td>\n",
       "      <td>드림약국</td>\n",
       "      <td>서울특별시 양천구 목동서로 256</td>\n",
       "      <td>02-2654-9503</td>\n",
       "      <td>NaN</td>\n",
       "      <td>20180601</td>\n",
       "      <td>1</td>\n",
       "      <td>37.539034</td>\n",
       "      <td>126.885272</td>\n",
       "    </tr>\n",
       "    <tr>\n",
       "      <th>5493</th>\n",
       "      <td>PHMD120223080033084000010</td>\n",
       "      <td>새서울약국</td>\n",
       "      <td>서울특별시 강북구 솔샘로 223</td>\n",
       "      <td>02-981-8215</td>\n",
       "      <td>NaN</td>\n",
       "      <td>20221011</td>\n",
       "      <td>1</td>\n",
       "      <td>37.619466</td>\n",
       "      <td>127.010397</td>\n",
       "    </tr>\n",
       "    <tr>\n",
       "      <th>5495</th>\n",
       "      <td>PHMD120183180034084000015</td>\n",
       "      <td>맑은수약국</td>\n",
       "      <td>서울특별시 영등포구 여의대방로 65</td>\n",
       "      <td>02-843-2008</td>\n",
       "      <td>NaN</td>\n",
       "      <td>20180423</td>\n",
       "      <td>1</td>\n",
       "      <td>37.521644</td>\n",
       "      <td>126.935753</td>\n",
       "    </tr>\n",
       "    <tr>\n",
       "      <th>5498</th>\n",
       "      <td>PHMD120213210034084000027</td>\n",
       "      <td>온약국</td>\n",
       "      <td>서울특별시 서초구 강남대로 213</td>\n",
       "      <td>070-8691-1260</td>\n",
       "      <td>NaN</td>\n",
       "      <td>20211101</td>\n",
       "      <td>1</td>\n",
       "      <td>37.511108</td>\n",
       "      <td>127.021174</td>\n",
       "    </tr>\n",
       "  </tbody>\n",
       "</table>\n",
       "<p>5024 rows × 9 columns</p>\n",
       "</div>"
      ],
      "text/plain": [
       "                           관리번호    사업장명                  도로명주소           전화번호  \\\n",
       "0     PHMD120223060034084000006  연세파란약국      서울특별시 중랑구 동일로 645    02-493-8856   \n",
       "1     PHMD120223240033084000019   더조은약국       서울특별시 강동구 상암로 41    02-428-2588   \n",
       "2     PHMD120223160034084000006     봄약국      서울특별시 구로구 경인로 204   02-2617-7773   \n",
       "3     PHMD120223220033084000026  청담소망약국      서울특별시 강남구 학동로 417             없음   \n",
       "4     PHMD120223120033084000004   참조은약국  서울특별시 서대문구 홍은중앙로8길 20    02-396-3885   \n",
       "...                         ...     ...                    ...            ...   \n",
       "5490  PHMD120203050034084000015    바다약국   서울특별시 동대문구 왕산로 189-1    02-957-1110   \n",
       "5492  PHMD120183140033084000009    드림약국     서울특별시 양천구 목동서로 256   02-2654-9503   \n",
       "5493  PHMD120223080033084000010   새서울약국      서울특별시 강북구 솔샘로 223    02-981-8215   \n",
       "5495  PHMD120183180034084000015   맑은수약국    서울특별시 영등포구 여의대방로 65    02-843-2008   \n",
       "5498  PHMD120213210034084000027     온약국     서울특별시 서초구 강남대로 213  070-8691-1260   \n",
       "\n",
       "      약국영업면적     인허가일자  영업상태코드         위도          경도  \n",
       "0        NaN  20221017       1  37.598654  127.079870  \n",
       "1        NaN  20221017       1  37.546710  127.150220  \n",
       "2        NaN  20220415       1  37.507898  126.886101  \n",
       "3        NaN  20221018       1  37.513421  127.028583  \n",
       "4        NaN  20221018       1  37.598882  126.948222  \n",
       "...      ...       ...     ...        ...         ...  \n",
       "5490     NaN  20201103       1  37.580055  127.044136  \n",
       "5492     NaN  20180601       1  37.539034  126.885272  \n",
       "5493     NaN  20221011       1  37.619466  127.010397  \n",
       "5495     NaN  20180423       1  37.521644  126.935753  \n",
       "5498     NaN  20211101       1  37.511108  127.021174  \n",
       "\n",
       "[5024 rows x 9 columns]"
      ]
     },
     "execution_count": 10,
     "metadata": {},
     "output_type": "execute_result"
    }
   ],
   "source": [
    "pharmacy_df"
   ]
  },
  {
   "cell_type": "code",
   "execution_count": 11,
   "metadata": {},
   "outputs": [
    {
     "data": {
      "text/plain": [
       "없음              185\n",
       "02-000-0000       7\n",
       "02-0000-0000      6\n",
       "02-               5\n",
       "02                3\n",
       "02-3463-7510      2\n",
       "020000000         2\n",
       "000-0000          2\n",
       "02-373-9725       2\n",
       "0                 2\n",
       "-                 2\n",
       "02-825-4532       1\n",
       "02-822-0667       1\n",
       "02-817-6087       1\n",
       "02-815-3011       1\n",
       "02-583-2882       1\n",
       "02-826-8347       1\n",
       "02-848-4566       1\n",
       "02-823-0583       1\n",
       "02-823-8336       1\n",
       "Name: 전화번호, dtype: int64"
      ]
     },
     "execution_count": 11,
     "metadata": {},
     "output_type": "execute_result"
    }
   ],
   "source": [
    "pharmacy_df['전화번호'].value_counts()[:20]"
   ]
  },
  {
   "cell_type": "code",
   "execution_count": 12,
   "metadata": {},
   "outputs": [],
   "source": [
    "phone = pharmacy_df['전화번호'].unique()\n",
    "wrong = ['02-000-0000','02-0000-0000', '02-', '02', '020000000', '000-0000', '0', '-']\n",
    "for p in phone:\n",
    "    if p in wrong:\n",
    "        pharmacy_df.loc[pharmacy_df[pharmacy_df['전화번호']==p].index, '전화번호'] = '없음'"
   ]
  },
  {
   "cell_type": "code",
   "execution_count": 13,
   "metadata": {},
   "outputs": [
    {
     "data": {
      "text/plain": [
       "없음              214\n",
       "02-3463-7510      2\n",
       "02-373-9725       2\n",
       "02-493-8856       1\n",
       "02-582-5353       1\n",
       "02-822-0667       1\n",
       "02-817-6087       1\n",
       "02-815-3011       1\n",
       "02-583-2882       1\n",
       "02-826-8347       1\n",
       "02-823-0583       1\n",
       "02-814-1943       1\n",
       "02-815-0506       1\n",
       "02-821-3157       1\n",
       "02-822-5692       1\n",
       "02-831-1922       1\n",
       "02-824-9447       1\n",
       "02-817-8303       1\n",
       "02-535-4674       1\n",
       "02-522-0993       1\n",
       "Name: 전화번호, dtype: int64"
      ]
     },
     "execution_count": 13,
     "metadata": {},
     "output_type": "execute_result"
    }
   ],
   "source": [
    "pharmacy_df['전화번호'].value_counts()[:20]"
   ]
  },
  {
   "attachments": {},
   "cell_type": "markdown",
   "metadata": {},
   "source": [
    "### 약국영업면적"
   ]
  },
  {
   "cell_type": "code",
   "execution_count": 14,
   "metadata": {},
   "outputs": [
    {
     "data": {
      "text/plain": [
       "0.0     219\n",
       "33.0     19\n",
       "25.0     18\n",
       "22.0     17\n",
       "23.0     17\n",
       "30.0     16\n",
       "24.0     16\n",
       "21.0     16\n",
       "28.0     15\n",
       "29.0     14\n",
       "32.0     14\n",
       "28.8     14\n",
       "35.0     13\n",
       "54.0     13\n",
       "40.0     13\n",
       "16.0     12\n",
       "48.0     12\n",
       "36.0     12\n",
       "20.0     12\n",
       "Name: 약국영업면적, dtype: int64"
      ]
     },
     "execution_count": 14,
     "metadata": {},
     "output_type": "execute_result"
    }
   ],
   "source": [
    "pharmacy_df['약국영업면적'].value_counts()[:20]"
   ]
  },
  {
   "cell_type": "code",
   "execution_count": 15,
   "metadata": {},
   "outputs": [
    {
     "data": {
      "text/plain": [
       "512"
      ]
     },
     "execution_count": 15,
     "metadata": {},
     "output_type": "execute_result"
    }
   ],
   "source": [
    "pharmacy_df['약국영업면적'].isna().sum()"
   ]
  },
  {
   "cell_type": "code",
   "execution_count": 16,
   "metadata": {},
   "outputs": [],
   "source": [
    "pharmacy_df.loc[pharmacy_df[pharmacy_df['약국영업면적'].isna()==True].index, '약국영업면적'] = '없음'\n",
    "pharmacy_df.loc[pharmacy_df[pharmacy_df['약국영업면적']==0.0].index, '약국영업면적'] = '없음'"
   ]
  },
  {
   "cell_type": "code",
   "execution_count": 17,
   "metadata": {},
   "outputs": [
    {
     "data": {
      "text/plain": [
       "없음      731\n",
       "33.0     19\n",
       "25.0     18\n",
       "23.0     17\n",
       "22.0     17\n",
       "21.0     16\n",
       "30.0     16\n",
       "24.0     16\n",
       "28.0     15\n",
       "28.8     14\n",
       "29.0     14\n",
       "32.0     14\n",
       "54.0     13\n",
       "40.0     13\n",
       "35.0     13\n",
       "48.0     12\n",
       "36.0     12\n",
       "16.0     12\n",
       "20.0     12\n",
       "25.2     11\n",
       "Name: 약국영업면적, dtype: int64"
      ]
     },
     "execution_count": 17,
     "metadata": {},
     "output_type": "execute_result"
    }
   ],
   "source": [
    "pharmacy_df['약국영업면적'].value_counts()[:20]"
   ]
  },
  {
   "attachments": {},
   "cell_type": "markdown",
   "metadata": {},
   "source": [
    "### 인허가일자"
   ]
  },
  {
   "cell_type": "code",
   "execution_count": 16,
   "metadata": {},
   "outputs": [
    {
     "data": {
      "text/plain": [
       "0"
      ]
     },
     "execution_count": 16,
     "metadata": {},
     "output_type": "execute_result"
    }
   ],
   "source": [
    "pharmacy_df['인허가일자'].isna().sum()"
   ]
  },
  {
   "cell_type": "code",
   "execution_count": 19,
   "metadata": {},
   "outputs": [
    {
     "data": {
      "text/plain": [
       "20190701    17\n",
       "20170102    15\n",
       "20190304    14\n",
       "20191202    13\n",
       "20200302     9\n",
       "            ..\n",
       "20151002     1\n",
       "20060214     1\n",
       "20120817     1\n",
       "20140116     1\n",
       "20221011     1\n",
       "Name: 인허가일자, Length: 3391, dtype: int64"
      ]
     },
     "execution_count": 19,
     "metadata": {},
     "output_type": "execute_result"
    }
   ],
   "source": [
    "pharmacy_df['인허가일자'].value_counts()"
   ]
  },
  {
   "attachments": {},
   "cell_type": "markdown",
   "metadata": {},
   "source": [
    "### 영업상태코드"
   ]
  },
  {
   "cell_type": "code",
   "execution_count": 18,
   "metadata": {},
   "outputs": [
    {
     "data": {
      "text/plain": [
       "array([1], dtype=int64)"
      ]
     },
     "execution_count": 18,
     "metadata": {},
     "output_type": "execute_result"
    }
   ],
   "source": [
    "pharmacy_df['영업상태코드'].unique()"
   ]
  },
  {
   "attachments": {},
   "cell_type": "markdown",
   "metadata": {},
   "source": [
    "### 위도 경도\n",
    "\n",
    "- 나눠져 있는거 합치기"
   ]
  },
  {
   "cell_type": "code",
   "execution_count": 20,
   "metadata": {},
   "outputs": [
    {
     "data": {
      "text/plain": [
       "(0, 0)"
      ]
     },
     "execution_count": 20,
     "metadata": {},
     "output_type": "execute_result"
    }
   ],
   "source": [
    "pharmacy_df['위도'].isna().sum(), pharmacy_df['경도'].isna().sum()"
   ]
  },
  {
   "cell_type": "code",
   "execution_count": 36,
   "metadata": {},
   "outputs": [],
   "source": [
    "loc = pharmacy_df['도로명주소'].unique()\n",
    "pharmacy_df['location'] = 0\n",
    "for l in loc:\n",
    "    latitude = pharmacy_df[pharmacy_df['도로명주소']==l]['위도'].values\n",
    "    longitude = pharmacy_df[pharmacy_df['도로명주소']==l]['경도'].values\n",
    "    location = str(latitude[0]) + ',' + str(longitude[0])\n",
    "    pharmacy_df.loc[pharmacy_df[pharmacy_df['도로명주소']==l].index, 'location'] = location"
   ]
  },
  {
   "cell_type": "code",
   "execution_count": 43,
   "metadata": {},
   "outputs": [
    {
     "data": {
      "text/html": [
       "<div>\n",
       "<style scoped>\n",
       "    .dataframe tbody tr th:only-of-type {\n",
       "        vertical-align: middle;\n",
       "    }\n",
       "\n",
       "    .dataframe tbody tr th {\n",
       "        vertical-align: top;\n",
       "    }\n",
       "\n",
       "    .dataframe thead th {\n",
       "        text-align: right;\n",
       "    }\n",
       "</style>\n",
       "<table border=\"1\" class=\"dataframe\">\n",
       "  <thead>\n",
       "    <tr style=\"text-align: right;\">\n",
       "      <th></th>\n",
       "      <th>관리번호</th>\n",
       "      <th>사업장명</th>\n",
       "      <th>도로명주소</th>\n",
       "      <th>전화번호</th>\n",
       "      <th>약국영업면적</th>\n",
       "      <th>인허가일자</th>\n",
       "      <th>영업상태코드</th>\n",
       "      <th>location</th>\n",
       "    </tr>\n",
       "  </thead>\n",
       "  <tbody>\n",
       "    <tr>\n",
       "      <th>0</th>\n",
       "      <td>PHMD120223060034084000006</td>\n",
       "      <td>연세파란약국</td>\n",
       "      <td>서울특별시 중랑구 동일로 645</td>\n",
       "      <td>02-493-8856</td>\n",
       "      <td>없음</td>\n",
       "      <td>20221017</td>\n",
       "      <td>1</td>\n",
       "      <td>37.5986537,127.0798699</td>\n",
       "    </tr>\n",
       "    <tr>\n",
       "      <th>1</th>\n",
       "      <td>PHMD120223240033084000019</td>\n",
       "      <td>더조은약국</td>\n",
       "      <td>서울특별시 강동구 상암로 41</td>\n",
       "      <td>02-428-2588</td>\n",
       "      <td>없음</td>\n",
       "      <td>20221017</td>\n",
       "      <td>1</td>\n",
       "      <td>37.54671,127.15022</td>\n",
       "    </tr>\n",
       "    <tr>\n",
       "      <th>2</th>\n",
       "      <td>PHMD120223160034084000006</td>\n",
       "      <td>봄약국</td>\n",
       "      <td>서울특별시 구로구 경인로 204</td>\n",
       "      <td>02-2617-7773</td>\n",
       "      <td>없음</td>\n",
       "      <td>20220415</td>\n",
       "      <td>1</td>\n",
       "      <td>37.50789805,126.8861006666827</td>\n",
       "    </tr>\n",
       "    <tr>\n",
       "      <th>3</th>\n",
       "      <td>PHMD120223220033084000026</td>\n",
       "      <td>청담소망약국</td>\n",
       "      <td>서울특별시 강남구 학동로 417</td>\n",
       "      <td>없음</td>\n",
       "      <td>없음</td>\n",
       "      <td>20221018</td>\n",
       "      <td>1</td>\n",
       "      <td>37.5134213,127.0285826</td>\n",
       "    </tr>\n",
       "    <tr>\n",
       "      <th>4</th>\n",
       "      <td>PHMD120223120033084000004</td>\n",
       "      <td>참조은약국</td>\n",
       "      <td>서울특별시 서대문구 홍은중앙로8길 20</td>\n",
       "      <td>02-396-3885</td>\n",
       "      <td>없음</td>\n",
       "      <td>20221018</td>\n",
       "      <td>1</td>\n",
       "      <td>37.5988819,126.9482225</td>\n",
       "    </tr>\n",
       "    <tr>\n",
       "      <th>...</th>\n",
       "      <td>...</td>\n",
       "      <td>...</td>\n",
       "      <td>...</td>\n",
       "      <td>...</td>\n",
       "      <td>...</td>\n",
       "      <td>...</td>\n",
       "      <td>...</td>\n",
       "      <td>...</td>\n",
       "    </tr>\n",
       "    <tr>\n",
       "      <th>5490</th>\n",
       "      <td>PHMD120203050034084000015</td>\n",
       "      <td>바다약국</td>\n",
       "      <td>서울특별시 동대문구 왕산로 189-1</td>\n",
       "      <td>02-957-1110</td>\n",
       "      <td>없음</td>\n",
       "      <td>20201103</td>\n",
       "      <td>1</td>\n",
       "      <td>37.58005485,127.0441356900642</td>\n",
       "    </tr>\n",
       "    <tr>\n",
       "      <th>5492</th>\n",
       "      <td>PHMD120183140033084000009</td>\n",
       "      <td>드림약국</td>\n",
       "      <td>서울특별시 양천구 목동서로 256</td>\n",
       "      <td>02-2654-9503</td>\n",
       "      <td>없음</td>\n",
       "      <td>20180601</td>\n",
       "      <td>1</td>\n",
       "      <td>37.5390345,126.8852717</td>\n",
       "    </tr>\n",
       "    <tr>\n",
       "      <th>5493</th>\n",
       "      <td>PHMD120223080033084000010</td>\n",
       "      <td>새서울약국</td>\n",
       "      <td>서울특별시 강북구 솔샘로 223</td>\n",
       "      <td>02-981-8215</td>\n",
       "      <td>없음</td>\n",
       "      <td>20221011</td>\n",
       "      <td>1</td>\n",
       "      <td>37.6194664,127.0103967</td>\n",
       "    </tr>\n",
       "    <tr>\n",
       "      <th>5495</th>\n",
       "      <td>PHMD120183180034084000015</td>\n",
       "      <td>맑은수약국</td>\n",
       "      <td>서울특별시 영등포구 여의대방로 65</td>\n",
       "      <td>02-843-2008</td>\n",
       "      <td>없음</td>\n",
       "      <td>20180423</td>\n",
       "      <td>1</td>\n",
       "      <td>37.5216437,126.9357534</td>\n",
       "    </tr>\n",
       "    <tr>\n",
       "      <th>5498</th>\n",
       "      <td>PHMD120213210034084000027</td>\n",
       "      <td>온약국</td>\n",
       "      <td>서울특별시 서초구 강남대로 213</td>\n",
       "      <td>070-8691-1260</td>\n",
       "      <td>없음</td>\n",
       "      <td>20211101</td>\n",
       "      <td>1</td>\n",
       "      <td>37.5111077,127.0211737</td>\n",
       "    </tr>\n",
       "  </tbody>\n",
       "</table>\n",
       "<p>5024 rows × 8 columns</p>\n",
       "</div>"
      ],
      "text/plain": [
       "                           관리번호    사업장명                  도로명주소           전화번호  \\\n",
       "0     PHMD120223060034084000006  연세파란약국      서울특별시 중랑구 동일로 645    02-493-8856   \n",
       "1     PHMD120223240033084000019   더조은약국       서울특별시 강동구 상암로 41    02-428-2588   \n",
       "2     PHMD120223160034084000006     봄약국      서울특별시 구로구 경인로 204   02-2617-7773   \n",
       "3     PHMD120223220033084000026  청담소망약국      서울특별시 강남구 학동로 417             없음   \n",
       "4     PHMD120223120033084000004   참조은약국  서울특별시 서대문구 홍은중앙로8길 20    02-396-3885   \n",
       "...                         ...     ...                    ...            ...   \n",
       "5490  PHMD120203050034084000015    바다약국   서울특별시 동대문구 왕산로 189-1    02-957-1110   \n",
       "5492  PHMD120183140033084000009    드림약국     서울특별시 양천구 목동서로 256   02-2654-9503   \n",
       "5493  PHMD120223080033084000010   새서울약국      서울특별시 강북구 솔샘로 223    02-981-8215   \n",
       "5495  PHMD120183180034084000015   맑은수약국    서울특별시 영등포구 여의대방로 65    02-843-2008   \n",
       "5498  PHMD120213210034084000027     온약국     서울특별시 서초구 강남대로 213  070-8691-1260   \n",
       "\n",
       "     약국영업면적     인허가일자  영업상태코드                       location  \n",
       "0        없음  20221017       1         37.5986537,127.0798699  \n",
       "1        없음  20221017       1             37.54671,127.15022  \n",
       "2        없음  20220415       1  37.50789805,126.8861006666827  \n",
       "3        없음  20221018       1         37.5134213,127.0285826  \n",
       "4        없음  20221018       1         37.5988819,126.9482225  \n",
       "...     ...       ...     ...                            ...  \n",
       "5490     없음  20201103       1  37.58005485,127.0441356900642  \n",
       "5492     없음  20180601       1         37.5390345,126.8852717  \n",
       "5493     없음  20221011       1         37.6194664,127.0103967  \n",
       "5495     없음  20180423       1         37.5216437,126.9357534  \n",
       "5498     없음  20211101       1         37.5111077,127.0211737  \n",
       "\n",
       "[5024 rows x 8 columns]"
      ]
     },
     "execution_count": 43,
     "metadata": {},
     "output_type": "execute_result"
    }
   ],
   "source": [
    "pharmacy_df.drop(columns=['위도','경도'], axis=1, inplace=True)\n",
    "pharmacy_df"
   ]
  },
  {
   "attachments": {},
   "cell_type": "markdown",
   "metadata": {},
   "source": [
    "### 저장"
   ]
  },
  {
   "cell_type": "code",
   "execution_count": 44,
   "metadata": {},
   "outputs": [],
   "source": [
    "pharmacy_df.to_csv(data_path+f'pharmacy_data_{VERSION}.csv', index=False)"
   ]
  },
  {
   "cell_type": "code",
   "execution_count": null,
   "metadata": {},
   "outputs": [],
   "source": []
  }
 ],
 "metadata": {
  "kernelspec": {
   "display_name": "final",
   "language": "python",
   "name": "python3"
  },
  "language_info": {
   "codemirror_mode": {
    "name": "ipython",
    "version": 3
   },
   "file_extension": ".py",
   "mimetype": "text/x-python",
   "name": "python",
   "nbconvert_exporter": "python",
   "pygments_lexer": "ipython3",
   "version": "3.8.5 (default, Sep  3 2020, 21:29:08) [MSC v.1916 64 bit (AMD64)]"
  },
  "orig_nbformat": 4,
  "vscode": {
   "interpreter": {
    "hash": "c5db23276c81553f28ee3180bed390753f4be5ff4a51ba457f4dc3628ca570f3"
   }
  }
 },
 "nbformat": 4,
 "nbformat_minor": 2
}
