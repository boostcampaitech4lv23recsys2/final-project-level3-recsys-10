{
 "cells": [
  {
   "cell_type": "code",
   "execution_count": 288,
   "id": "1b837cb2-091f-470c-9c45-152dc008c9e5",
   "metadata": {},
   "outputs": [],
   "source": [
    "# 환경구축 : requirements.txt + pandas install\n",
    "import numpy as np\n",
    "import pandas as pd\n",
    "import pyproj\n",
    "import geopy\n",
    "import matplotlib as mpl\n",
    "import matplotlib.pyplot as plt\n",
    "\n",
    "import warnings\n",
    "\n",
    "warnings.filterwarnings(action='ignore')\n",
    "\n",
    "import os\n",
    "from geopy.geocoders import Nominatim\n",
    "geo_local = Nominatim(user_agent='South Korea')\n",
    "\n",
    "path = '/opt/ml/'"
   ]
  },
  {
   "cell_type": "code",
   "execution_count": 3,
   "id": "dacd2a36-e149-4c7d-a479-bdb329a94a45",
   "metadata": {},
   "outputs": [],
   "source": [
    "pharmacy = pd.read_csv('pharmacy.csv',encoding='cp949')"
   ]
  },
  {
   "cell_type": "code",
   "execution_count": 6,
   "id": "30beead1-5c34-4193-9fbc-ec8fbe1731a4",
   "metadata": {},
   "outputs": [
    {
     "data": {
      "text/plain": [
       "array(['폐업', '영업/정상', '취소/말소/만료/정지/중지', '휴업', '제외/삭제/전출'], dtype=object)"
      ]
     },
     "execution_count": 6,
     "metadata": {},
     "output_type": "execute_result"
    }
   ],
   "source": [
    "pharmacy['영업상태명'].unique()"
   ]
  },
  {
   "cell_type": "markdown",
   "id": "a35319ba-9a38-4370-8143-adff255ff34c",
   "metadata": {},
   "source": [
    "## 영업상태코드와 동일, 1:영업, 2:휴업, 3:폐업, 4:취소/말소/정지, 5:삭제/제외"
   ]
  },
  {
   "cell_type": "markdown",
   "id": "aac5ea41-0049-47a8-9241-52bfabc9318a",
   "metadata": {},
   "source": [
    "## 영업중인 약국만 사용"
   ]
  },
  {
   "cell_type": "code",
   "execution_count": 13,
   "id": "8a4878b1-1f53-4ea2-adb1-13a2391e3a5e",
   "metadata": {},
   "outputs": [],
   "source": [
    "pd.options.display.max_columns = 100"
   ]
  },
  {
   "cell_type": "code",
   "execution_count": 26,
   "id": "6232d7c9-0487-43bd-9412-4cb2f0ed3310",
   "metadata": {},
   "outputs": [
    {
     "data": {
      "text/plain": [
       "(5500, 27)"
      ]
     },
     "execution_count": 26,
     "metadata": {},
     "output_type": "execute_result"
    }
   ],
   "source": [
    "pharmacy[pharmacy['영업상태코드']==1].shape"
   ]
  },
  {
   "cell_type": "code",
   "execution_count": 27,
   "id": "d8402b17-699e-4eea-89d5-9c46fa3c64b0",
   "metadata": {},
   "outputs": [
    {
     "data": {
      "text/plain": [
       "(5500, 27)"
      ]
     },
     "execution_count": 27,
     "metadata": {},
     "output_type": "execute_result"
    }
   ],
   "source": [
    "pharmacy[pharmacy['영업상태명']=='영업/정상'].shape"
   ]
  },
  {
   "cell_type": "code",
   "execution_count": 28,
   "id": "5f928a56-9060-43fc-9ca2-b39acd0d98e7",
   "metadata": {},
   "outputs": [
    {
     "data": {
      "text/plain": [
       "(5499, 27)"
      ]
     },
     "execution_count": 28,
     "metadata": {},
     "output_type": "execute_result"
    }
   ],
   "source": [
    "pharmacy[pharmacy['상세영업상태명']=='영업중'].shape"
   ]
  },
  {
   "cell_type": "code",
   "execution_count": 35,
   "id": "87a03368-5c25-48ba-9f72-d72c488edfd3",
   "metadata": {},
   "outputs": [],
   "source": [
    "# pharmacy[(pharmacy['영업상태명']=='영업/정상') & (pharmacy['상세영업상태명']!='영업중')]"
   ]
  },
  {
   "cell_type": "markdown",
   "id": "d3ae45b2-a69c-4f2b-b1ac-0041dac1b3c9",
   "metadata": {},
   "source": [
    "# 가공 시작"
   ]
  },
  {
   "cell_type": "code",
   "execution_count": 276,
   "id": "9497422f-da1f-4ee7-8ad8-243ed88926cf",
   "metadata": {},
   "outputs": [],
   "source": [
    "p1 = pharmacy[pharmacy['영업상태코드']==1]"
   ]
  },
  {
   "cell_type": "code",
   "execution_count": 277,
   "id": "34dce446-5e65-4ce7-8229-afdc9d693ca8",
   "metadata": {},
   "outputs": [],
   "source": [
    "tmp = p1[['관리번호','사업장명','도로명주소','전화번호','약국영업면적','개방자치단체코드','인허가일자','영업상태코드']]"
   ]
  },
  {
   "cell_type": "code",
   "execution_count": 278,
   "id": "e137b922-c475-4bbc-b3b5-79e0288e7727",
   "metadata": {},
   "outputs": [],
   "source": [
    "# pharmacy[pharmacy['사업장명']=='김상돈약국']"
   ]
  },
  {
   "cell_type": "code",
   "execution_count": 279,
   "id": "2309119b-007d-45fc-8d73-1f86317c458d",
   "metadata": {},
   "outputs": [],
   "source": [
    "tmp.drop(3306,axis=0,inplace=True) # 정보없는 데이터 삭제"
   ]
  },
  {
   "cell_type": "code",
   "execution_count": 280,
   "id": "c7963e2b-b211-4109-9d14-e57059e983bb",
   "metadata": {},
   "outputs": [
    {
     "data": {
      "text/html": [
       "<div>\n",
       "<style scoped>\n",
       "    .dataframe tbody tr th:only-of-type {\n",
       "        vertical-align: middle;\n",
       "    }\n",
       "\n",
       "    .dataframe tbody tr th {\n",
       "        vertical-align: top;\n",
       "    }\n",
       "\n",
       "    .dataframe thead th {\n",
       "        text-align: right;\n",
       "    }\n",
       "</style>\n",
       "<table border=\"1\" class=\"dataframe\">\n",
       "  <thead>\n",
       "    <tr style=\"text-align: right;\">\n",
       "      <th></th>\n",
       "      <th>관리번호</th>\n",
       "      <th>사업장명</th>\n",
       "      <th>도로명주소</th>\n",
       "      <th>전화번호</th>\n",
       "      <th>약국영업면적</th>\n",
       "      <th>개방자치단체코드</th>\n",
       "      <th>인허가일자</th>\n",
       "      <th>영업상태코드</th>\n",
       "    </tr>\n",
       "  </thead>\n",
       "  <tbody>\n",
       "    <tr>\n",
       "      <th>2</th>\n",
       "      <td>PHMD120223060034084000006</td>\n",
       "      <td>연세파란약국</td>\n",
       "      <td>서울특별시 중랑구 동일로 645(면목동)</td>\n",
       "      <td>02-493-8856</td>\n",
       "      <td>NaN</td>\n",
       "      <td>3060000</td>\n",
       "      <td>20221017</td>\n",
       "      <td>1</td>\n",
       "    </tr>\n",
       "    <tr>\n",
       "      <th>3</th>\n",
       "      <td>PHMD120223240033084000019</td>\n",
       "      <td>더조은약국</td>\n",
       "      <td>서울특별시 강동구 상암로 41 1층 120 120-1호 (암사동 암사동양덱스빌)</td>\n",
       "      <td>02-428-2588</td>\n",
       "      <td>NaN</td>\n",
       "      <td>3240000</td>\n",
       "      <td>20221017</td>\n",
       "      <td>1</td>\n",
       "    </tr>\n",
       "  </tbody>\n",
       "</table>\n",
       "</div>"
      ],
      "text/plain": [
       "                        관리번호    사업장명  \\\n",
       "2  PHMD120223060034084000006  연세파란약국   \n",
       "3  PHMD120223240033084000019   더조은약국   \n",
       "\n",
       "                                          도로명주소         전화번호  약국영업면적  \\\n",
       "2                        서울특별시 중랑구 동일로 645(면목동)  02-493-8856     NaN   \n",
       "3  서울특별시 강동구 상암로 41 1층 120 120-1호 (암사동 암사동양덱스빌)  02-428-2588     NaN   \n",
       "\n",
       "   개방자치단체코드     인허가일자  영업상태코드  \n",
       "2   3060000  20221017       1  \n",
       "3   3240000  20221017       1  "
      ]
     },
     "execution_count": 280,
     "metadata": {},
     "output_type": "execute_result"
    }
   ],
   "source": [
    "tmp[:2]"
   ]
  },
  {
   "cell_type": "code",
   "execution_count": 281,
   "id": "6fff25d6-2b1a-4854-a8bc-b57fb128d534",
   "metadata": {},
   "outputs": [],
   "source": [
    "def address_preprocessing(x):\n",
    "    s = str(x).split()\n",
    "    for i in range(len(s)):\n",
    "        if s[i][-1]=='로' or s[i][-1]=='길':\n",
    "            return ' '.join(s[:i+2])\n",
    "    else:\n",
    "        return 0"
   ]
  },
  {
   "cell_type": "code",
   "execution_count": 282,
   "id": "eace7241-7d7f-4ce8-ac02-a5c7d385860e",
   "metadata": {},
   "outputs": [
    {
     "data": {
      "text/plain": [
       "'서울특별시 중랑구 동일로 645(면목동)'"
      ]
     },
     "execution_count": 282,
     "metadata": {},
     "output_type": "execute_result"
    }
   ],
   "source": [
    "address_preprocessing('서울특별시 중랑구 동일로 645(면목동)')"
   ]
  },
  {
   "cell_type": "code",
   "execution_count": 283,
   "id": "e69064bd-382c-40c4-8721-cd95ee7161b3",
   "metadata": {},
   "outputs": [],
   "source": [
    "tmp['도로명주소'] = tmp['도로명주소'].apply(lambda x: address_preprocessing(x))\n",
    "tmp['도로명주소'] = tmp['도로명주소'].apply(lambda x: x.split('(')[0])"
   ]
  },
  {
   "cell_type": "code",
   "execution_count": 305,
   "id": "d2dd48f0-6b1b-4ca1-928a-303fc5ba0617",
   "metadata": {},
   "outputs": [
    {
     "data": {
      "text/plain": [
       "(5499, 9)"
      ]
     },
     "execution_count": 305,
     "metadata": {},
     "output_type": "execute_result"
    }
   ],
   "source": [
    "tmp.shape"
   ]
  },
  {
   "cell_type": "code",
   "execution_count": 106,
   "id": "e7462eb0-8d70-4f34-97cd-cacbb273bd79",
   "metadata": {},
   "outputs": [],
   "source": [
    "# 위도, 경도 반환하는 함수\n",
    "def geocoding(address):\n",
    "    try:\n",
    "        geo = geo_local.geocode(address)\n",
    "        x_y = [geo.latitude, geo.longitude]\n",
    "        return x_y\n",
    "\n",
    "    except:\n",
    "        return [0,0]"
   ]
  },
  {
   "cell_type": "code",
   "execution_count": 293,
   "id": "e1af742c-7817-4432-bddc-161439b2bfb5",
   "metadata": {},
   "outputs": [],
   "source": [
    "tmp['위경도'] = tmp['도로명주소'].apply(lambda x: geocoding(x))"
   ]
  },
  {
   "cell_type": "code",
   "execution_count": 313,
   "id": "963b0190-e80c-416f-bd93-0b14111410e3",
   "metadata": {},
   "outputs": [
    {
     "data": {
      "text/html": [
       "<div>\n",
       "<style scoped>\n",
       "    .dataframe tbody tr th:only-of-type {\n",
       "        vertical-align: middle;\n",
       "    }\n",
       "\n",
       "    .dataframe tbody tr th {\n",
       "        vertical-align: top;\n",
       "    }\n",
       "\n",
       "    .dataframe thead th {\n",
       "        text-align: right;\n",
       "    }\n",
       "</style>\n",
       "<table border=\"1\" class=\"dataframe\">\n",
       "  <thead>\n",
       "    <tr style=\"text-align: right;\">\n",
       "      <th></th>\n",
       "      <th>관리번호</th>\n",
       "      <th>사업장명</th>\n",
       "      <th>도로명주소</th>\n",
       "      <th>전화번호</th>\n",
       "      <th>약국영업면적</th>\n",
       "      <th>개방자치단체코드</th>\n",
       "      <th>인허가일자</th>\n",
       "      <th>영업상태코드</th>\n",
       "      <th>위경도</th>\n",
       "    </tr>\n",
       "  </thead>\n",
       "  <tbody>\n",
       "    <tr>\n",
       "      <th>2</th>\n",
       "      <td>PHMD120223060034084000006</td>\n",
       "      <td>연세파란약국</td>\n",
       "      <td>서울특별시 중랑구 동일로 645</td>\n",
       "      <td>02-493-8856</td>\n",
       "      <td>NaN</td>\n",
       "      <td>3060000</td>\n",
       "      <td>20221017</td>\n",
       "      <td>1</td>\n",
       "      <td>[37.5986537, 127.0798699]</td>\n",
       "    </tr>\n",
       "    <tr>\n",
       "      <th>3</th>\n",
       "      <td>PHMD120223240033084000019</td>\n",
       "      <td>더조은약국</td>\n",
       "      <td>서울특별시 강동구 상암로 41</td>\n",
       "      <td>02-428-2588</td>\n",
       "      <td>NaN</td>\n",
       "      <td>3240000</td>\n",
       "      <td>20221017</td>\n",
       "      <td>1</td>\n",
       "      <td>[37.54671, 127.15022]</td>\n",
       "    </tr>\n",
       "  </tbody>\n",
       "</table>\n",
       "</div>"
      ],
      "text/plain": [
       "                        관리번호    사업장명              도로명주소         전화번호  약국영업면적  \\\n",
       "2  PHMD120223060034084000006  연세파란약국  서울특별시 중랑구 동일로 645  02-493-8856     NaN   \n",
       "3  PHMD120223240033084000019   더조은약국   서울특별시 강동구 상암로 41  02-428-2588     NaN   \n",
       "\n",
       "   개방자치단체코드     인허가일자  영업상태코드                        위경도  \n",
       "2   3060000  20221017       1  [37.5986537, 127.0798699]  \n",
       "3   3240000  20221017       1      [37.54671, 127.15022]  "
      ]
     },
     "execution_count": 313,
     "metadata": {},
     "output_type": "execute_result"
    }
   ],
   "source": [
    "tmp[:2]"
   ]
  },
  {
   "cell_type": "code",
   "execution_count": 314,
   "id": "f7f4b7ee-7c6e-498a-8801-c9d45a650fef",
   "metadata": {},
   "outputs": [],
   "source": [
    "for index, row in tmp.iterrows():\n",
    "    tmp.loc[index,'위도'] = row['위경도'][0]\n",
    "    tmp.loc[index,'경도'] = row['위경도'][1]"
   ]
  },
  {
   "cell_type": "code",
   "execution_count": 315,
   "id": "172d2625-2ae1-4041-b8f3-a1e64aa3a7aa",
   "metadata": {},
   "outputs": [
    {
     "data": {
      "text/html": [
       "<div>\n",
       "<style scoped>\n",
       "    .dataframe tbody tr th:only-of-type {\n",
       "        vertical-align: middle;\n",
       "    }\n",
       "\n",
       "    .dataframe tbody tr th {\n",
       "        vertical-align: top;\n",
       "    }\n",
       "\n",
       "    .dataframe thead th {\n",
       "        text-align: right;\n",
       "    }\n",
       "</style>\n",
       "<table border=\"1\" class=\"dataframe\">\n",
       "  <thead>\n",
       "    <tr style=\"text-align: right;\">\n",
       "      <th></th>\n",
       "      <th>관리번호</th>\n",
       "      <th>사업장명</th>\n",
       "      <th>도로명주소</th>\n",
       "      <th>전화번호</th>\n",
       "      <th>약국영업면적</th>\n",
       "      <th>개방자치단체코드</th>\n",
       "      <th>인허가일자</th>\n",
       "      <th>영업상태코드</th>\n",
       "      <th>위경도</th>\n",
       "      <th>위도</th>\n",
       "      <th>경도</th>\n",
       "    </tr>\n",
       "  </thead>\n",
       "  <tbody>\n",
       "    <tr>\n",
       "      <th>2</th>\n",
       "      <td>PHMD120223060034084000006</td>\n",
       "      <td>연세파란약국</td>\n",
       "      <td>서울특별시 중랑구 동일로 645</td>\n",
       "      <td>02-493-8856</td>\n",
       "      <td>NaN</td>\n",
       "      <td>3060000</td>\n",
       "      <td>20221017</td>\n",
       "      <td>1</td>\n",
       "      <td>[37.5986537, 127.0798699]</td>\n",
       "      <td>37.598654</td>\n",
       "      <td>127.07987</td>\n",
       "    </tr>\n",
       "    <tr>\n",
       "      <th>3</th>\n",
       "      <td>PHMD120223240033084000019</td>\n",
       "      <td>더조은약국</td>\n",
       "      <td>서울특별시 강동구 상암로 41</td>\n",
       "      <td>02-428-2588</td>\n",
       "      <td>NaN</td>\n",
       "      <td>3240000</td>\n",
       "      <td>20221017</td>\n",
       "      <td>1</td>\n",
       "      <td>[37.54671, 127.15022]</td>\n",
       "      <td>37.546710</td>\n",
       "      <td>127.15022</td>\n",
       "    </tr>\n",
       "  </tbody>\n",
       "</table>\n",
       "</div>"
      ],
      "text/plain": [
       "                        관리번호    사업장명              도로명주소         전화번호  약국영업면적  \\\n",
       "2  PHMD120223060034084000006  연세파란약국  서울특별시 중랑구 동일로 645  02-493-8856     NaN   \n",
       "3  PHMD120223240033084000019   더조은약국   서울특별시 강동구 상암로 41  02-428-2588     NaN   \n",
       "\n",
       "   개방자치단체코드     인허가일자  영업상태코드                        위경도         위도         경도  \n",
       "2   3060000  20221017       1  [37.5986537, 127.0798699]  37.598654  127.07987  \n",
       "3   3240000  20221017       1      [37.54671, 127.15022]  37.546710  127.15022  "
      ]
     },
     "execution_count": 315,
     "metadata": {},
     "output_type": "execute_result"
    }
   ],
   "source": [
    "tmp[:2]"
   ]
  },
  {
   "cell_type": "code",
   "execution_count": 317,
   "id": "5b7bc2e3-7b4e-49f1-b095-ea1339f5050e",
   "metadata": {},
   "outputs": [],
   "source": [
    "final_p = tmp[['관리번호','사업장명','도로명주소','전화번호','약국영업면적','인허가일자','영업상태코드','위도','경도']]"
   ]
  },
  {
   "cell_type": "code",
   "execution_count": 318,
   "id": "97d66b05-27e3-46e9-ac40-d9841ade4fb3",
   "metadata": {},
   "outputs": [
    {
     "data": {
      "text/html": [
       "<div>\n",
       "<style scoped>\n",
       "    .dataframe tbody tr th:only-of-type {\n",
       "        vertical-align: middle;\n",
       "    }\n",
       "\n",
       "    .dataframe tbody tr th {\n",
       "        vertical-align: top;\n",
       "    }\n",
       "\n",
       "    .dataframe thead th {\n",
       "        text-align: right;\n",
       "    }\n",
       "</style>\n",
       "<table border=\"1\" class=\"dataframe\">\n",
       "  <thead>\n",
       "    <tr style=\"text-align: right;\">\n",
       "      <th></th>\n",
       "      <th>관리번호</th>\n",
       "      <th>사업장명</th>\n",
       "      <th>도로명주소</th>\n",
       "      <th>전화번호</th>\n",
       "      <th>약국영업면적</th>\n",
       "      <th>인허가일자</th>\n",
       "      <th>영업상태코드</th>\n",
       "      <th>위도</th>\n",
       "      <th>경도</th>\n",
       "    </tr>\n",
       "  </thead>\n",
       "  <tbody>\n",
       "    <tr>\n",
       "      <th>2</th>\n",
       "      <td>PHMD120223060034084000006</td>\n",
       "      <td>연세파란약국</td>\n",
       "      <td>서울특별시 중랑구 동일로 645</td>\n",
       "      <td>02-493-8856</td>\n",
       "      <td>NaN</td>\n",
       "      <td>20221017</td>\n",
       "      <td>1</td>\n",
       "      <td>37.598654</td>\n",
       "      <td>127.07987</td>\n",
       "    </tr>\n",
       "    <tr>\n",
       "      <th>3</th>\n",
       "      <td>PHMD120223240033084000019</td>\n",
       "      <td>더조은약국</td>\n",
       "      <td>서울특별시 강동구 상암로 41</td>\n",
       "      <td>02-428-2588</td>\n",
       "      <td>NaN</td>\n",
       "      <td>20221017</td>\n",
       "      <td>1</td>\n",
       "      <td>37.546710</td>\n",
       "      <td>127.15022</td>\n",
       "    </tr>\n",
       "  </tbody>\n",
       "</table>\n",
       "</div>"
      ],
      "text/plain": [
       "                        관리번호    사업장명              도로명주소         전화번호  약국영업면적  \\\n",
       "2  PHMD120223060034084000006  연세파란약국  서울특별시 중랑구 동일로 645  02-493-8856     NaN   \n",
       "3  PHMD120223240033084000019   더조은약국   서울특별시 강동구 상암로 41  02-428-2588     NaN   \n",
       "\n",
       "      인허가일자  영업상태코드         위도         경도  \n",
       "2  20221017       1  37.598654  127.07987  \n",
       "3  20221017       1  37.546710  127.15022  "
      ]
     },
     "execution_count": 318,
     "metadata": {},
     "output_type": "execute_result"
    }
   ],
   "source": [
    "final_p[:2]"
   ]
  },
  {
   "cell_type": "code",
   "execution_count": 320,
   "id": "75f2c012-252f-4d5d-b0c7-911b2c16cbe9",
   "metadata": {},
   "outputs": [],
   "source": [
    "final_p.to_csv('pharmacy_data.csv',index=False)"
   ]
  },
  {
   "cell_type": "markdown",
   "id": "a6831a0b-2ea2-416a-88b1-1e072b3b8ec5",
   "metadata": {},
   "source": [
    "# ---------------------------"
   ]
  },
  {
   "cell_type": "code",
   "execution_count": 308,
   "id": "45829cbb-b241-4731-970e-2b9e7b82e0fe",
   "metadata": {},
   "outputs": [
    {
     "data": {
      "text/plain": [
       "(53, 9)"
      ]
     },
     "execution_count": 308,
     "metadata": {},
     "output_type": "execute_result"
    }
   ],
   "source": [
    "tmp[tmp['위경도'].apply(lambda x: x==[0,0])].shape"
   ]
  },
  {
   "cell_type": "code",
   "execution_count": 304,
   "id": "b787a44d-1e65-43b6-9d5e-c83d7eb99aea",
   "metadata": {},
   "outputs": [
    {
     "data": {
      "text/plain": [
       "[37.4821966, 126.9474016]"
      ]
     },
     "execution_count": 304,
     "metadata": {},
     "output_type": "execute_result"
    }
   ],
   "source": [
    "geocoding('서울특별시 관악구 남부순환로 2082')"
   ]
  },
  {
   "cell_type": "code",
   "execution_count": 309,
   "id": "091b8c69-7688-44a9-9540-26b58353cb09",
   "metadata": {},
   "outputs": [
    {
     "ename": "TypeError",
     "evalue": "unhashable type: 'list'",
     "output_type": "error",
     "traceback": [
      "\u001b[0;31m---------------------------------------------------------------------------\u001b[0m",
      "\u001b[0;31mTypeError\u001b[0m                                 Traceback (most recent call last)",
      "File \u001b[0;32mpandas/_libs/hashtable_class_helper.pxi:1652\u001b[0m, in \u001b[0;36mpandas._libs.hashtable.PyObjectHashTable.map_locations\u001b[0;34m()\u001b[0m\n",
      "\u001b[0;31mTypeError\u001b[0m: unhashable type: 'list'"
     ]
    },
    {
     "name": "stderr",
     "output_type": "stream",
     "text": [
      "Exception ignored in: 'pandas._libs.index.IndexEngine._call_map_locations'\n",
      "Traceback (most recent call last):\n",
      "  File \"pandas/_libs/hashtable_class_helper.pxi\", line 1652, in pandas._libs.hashtable.PyObjectHashTable.map_locations\n",
      "TypeError: unhashable type: 'list'\n"
     ]
    },
    {
     "data": {
      "text/plain": [
       "[0, 0]                               53\n",
       "[37.5739132, 127.0188445]            51\n",
       "[37.6242653, 127.0734496]            49\n",
       "[37.6410017, 127.0289955]            45\n",
       "[37.5526401, 127.1441574]            39\n",
       "                                     ..\n",
       "[37.6063975, 127.036435]              1\n",
       "[37.556239, 127.0350264]              1\n",
       "[37.6092679, 127.0095134]             1\n",
       "[37.49254025, 127.14478070000001]     1\n",
       "[37.4729269, 127.0407513]             1\n",
       "Name: 위경도, Length: 2301, dtype: int64"
      ]
     },
     "execution_count": 309,
     "metadata": {},
     "output_type": "execute_result"
    }
   ],
   "source": [
    "tmp['위경도'].value_counts()"
   ]
  },
  {
   "cell_type": "code",
   "execution_count": 312,
   "id": "c2c48507-bd98-4fa1-8c66-826c2ca14552",
   "metadata": {},
   "outputs": [],
   "source": [
    "# tmp[tmp['위경도'].apply(lambda x: x==[37.5739132, 127.0188445])]"
   ]
  },
  {
   "cell_type": "code",
   "execution_count": 322,
   "id": "6b740cca-8bd8-47c7-a726-3952d0964261",
   "metadata": {},
   "outputs": [],
   "source": [
    "from haversine import haversine"
   ]
  },
  {
   "cell_type": "code",
   "execution_count": 337,
   "id": "e21306ff-4550-427b-ba4a-a2ac0fba7825",
   "metadata": {},
   "outputs": [
    {
     "data": {
      "text/plain": [
       "778.3655616347307"
      ]
     },
     "execution_count": 337,
     "metadata": {},
     "output_type": "execute_result"
    }
   ],
   "source": [
    "haversine((37,127),(30,127))"
   ]
  },
  {
   "cell_type": "code",
   "execution_count": 341,
   "id": "a7a049fe-5c0a-4dc6-8cc6-71cc1010a997",
   "metadata": {},
   "outputs": [
    {
     "data": {
      "text/plain": [
       "1.0434046913400234"
      ]
     },
     "execution_count": 341,
     "metadata": {},
     "output_type": "execute_result"
    }
   ],
   "source": [
    "haversine((37,127),(37,127.011749478646))"
   ]
  },
  {
   "cell_type": "code",
   "execution_count": 342,
   "id": "ef6114e0-5235-4ed1-a75d-9bc0ffc70415",
   "metadata": {},
   "outputs": [
    {
     "data": {
      "text/plain": [
       "1.000755722102017"
      ]
     },
     "execution_count": 342,
     "metadata": {},
     "output_type": "execute_result"
    }
   ],
   "source": [
    "haversine((37.009,127),(37,127))"
   ]
  }
 ],
 "metadata": {
  "kernelspec": {
   "display_name": "Python 3 (ipykernel)",
   "language": "python",
   "name": "python3"
  },
  "language_info": {
   "codemirror_mode": {
    "name": "ipython",
    "version": 3
   },
   "file_extension": ".py",
   "mimetype": "text/x-python",
   "name": "python",
   "nbconvert_exporter": "python",
   "pygments_lexer": "ipython3",
   "version": "3.8.5"
  }
 },
 "nbformat": 4,
 "nbformat_minor": 5
}
