{
 "cells": [
  {
   "cell_type": "code",
   "execution_count": 2,
   "id": "1b837cb2-091f-470c-9c45-152dc008c9e5",
   "metadata": {},
   "outputs": [],
   "source": [
    "# 환경구축 : requirements.txt + pandas install\n",
    "import numpy as np\n",
    "import pandas as pd\n",
    "\n",
    "import matplotlib as mpl\n",
    "import matplotlib.pyplot as plt\n",
    "\n",
    "import warnings\n",
    "\n",
    "warnings.filterwarnings(action='ignore')\n",
    "\n",
    "import os\n",
    "\n",
    "path = '../data/'"
   ]
  },
  {
   "cell_type": "code",
   "execution_count": 3,
   "id": "dacd2a36-e149-4c7d-a479-bdb329a94a45",
   "metadata": {},
   "outputs": [],
   "source": [
    "park = pd.read_csv('park.csv',encoding='cp949')"
   ]
  },
  {
   "cell_type": "markdown",
   "id": "ea618dbc-feef-4e3e-a920-a5ce92151ec5",
   "metadata": {},
   "source": [
    "GRS80TM(EPSG:2097)\n",
    "\n",
    "WGS84(EPSG:4326)"
   ]
  },
  {
   "cell_type": "code",
   "execution_count": 13,
   "id": "25419b95-df0a-4acf-a6b9-f630c4647937",
   "metadata": {},
   "outputs": [],
   "source": [
    "p1 = park[['연번','공원명','Y좌표(WGS84)','X좌표(WGS84)','지역','면적','개원일','공원주소','전화번호']]"
   ]
  },
  {
   "cell_type": "code",
   "execution_count": 14,
   "id": "eb1e6b83-0dc7-44e4-9542-467ecff39aac",
   "metadata": {},
   "outputs": [],
   "source": [
    "p1.columns = ['연번','공원명','위도','경도','지역','면적','개원일','공원주소','전화번호']"
   ]
  },
  {
   "cell_type": "code",
   "execution_count": 26,
   "id": "db56090f-ee7a-4098-ba0b-04e78bcc060f",
   "metadata": {},
   "outputs": [],
   "source": [
    "p1.drop(131,inplace=True)"
   ]
  },
  {
   "cell_type": "code",
   "execution_count": 29,
   "id": "4dca17ed-3e20-4660-80ca-db9b82474466",
   "metadata": {},
   "outputs": [],
   "source": [
    "final_p = p1"
   ]
  },
  {
   "cell_type": "code",
   "execution_count": 40,
   "id": "c058022b-64f5-4a62-999e-880a5680fc16",
   "metadata": {},
   "outputs": [
    {
     "data": {
      "text/html": [
       "<div>\n",
       "<style scoped>\n",
       "    .dataframe tbody tr th:only-of-type {\n",
       "        vertical-align: middle;\n",
       "    }\n",
       "\n",
       "    .dataframe tbody tr th {\n",
       "        vertical-align: top;\n",
       "    }\n",
       "\n",
       "    .dataframe thead th {\n",
       "        text-align: right;\n",
       "    }\n",
       "</style>\n",
       "<table border=\"1\" class=\"dataframe\">\n",
       "  <thead>\n",
       "    <tr style=\"text-align: right;\">\n",
       "      <th></th>\n",
       "      <th>연번</th>\n",
       "      <th>공원명</th>\n",
       "      <th>위도</th>\n",
       "      <th>경도</th>\n",
       "      <th>지역</th>\n",
       "      <th>면적</th>\n",
       "      <th>개원일</th>\n",
       "      <th>공원주소</th>\n",
       "      <th>전화번호</th>\n",
       "    </tr>\n",
       "  </thead>\n",
       "  <tbody>\n",
       "    <tr>\n",
       "      <th>0</th>\n",
       "      <td>1</td>\n",
       "      <td>남산도시자연공원</td>\n",
       "      <td>37.550140</td>\n",
       "      <td>126.990377</td>\n",
       "      <td>중구</td>\n",
       "      <td>2896887㎡ 임 야 : 2454140㎡ 녹지대 및 기타시설 : 442747㎡</td>\n",
       "      <td>1968.9.10</td>\n",
       "      <td>서울특별시 중구 삼일대로 231(예장동)</td>\n",
       "      <td>02-3783-5900</td>\n",
       "    </tr>\n",
       "    <tr>\n",
       "      <th>1</th>\n",
       "      <td>2</td>\n",
       "      <td>길동생태공원</td>\n",
       "      <td>37.540394</td>\n",
       "      <td>127.154779</td>\n",
       "      <td>강동구</td>\n",
       "      <td>80683㎡</td>\n",
       "      <td>1999.5.20</td>\n",
       "      <td>서울특별시 강동구 천호대로 1291(길동생태공원)</td>\n",
       "      <td>02-489-2770</td>\n",
       "    </tr>\n",
       "    <tr>\n",
       "      <th>2</th>\n",
       "      <td>3</td>\n",
       "      <td>서울대공원</td>\n",
       "      <td>37.426449</td>\n",
       "      <td>127.019847</td>\n",
       "      <td>과천시</td>\n",
       "      <td>9132690m²</td>\n",
       "      <td>1984.5.1</td>\n",
       "      <td>경기도 과천시 대공원광장로 102</td>\n",
       "      <td>02-500-7032</td>\n",
       "    </tr>\n",
       "  </tbody>\n",
       "</table>\n",
       "</div>"
      ],
      "text/plain": [
       "   연번       공원명         위도          경도   지역  \\\n",
       "0   1  남산도시자연공원  37.550140  126.990377   중구   \n",
       "1   2    길동생태공원  37.540394  127.154779  강동구   \n",
       "2   3     서울대공원  37.426449  127.019847  과천시   \n",
       "\n",
       "                                             면적        개원일  \\\n",
       "0  2896887㎡ 임 야 : 2454140㎡ 녹지대 및 기타시설 : 442747㎡  1968.9.10   \n",
       "1                                        80683㎡  1999.5.20   \n",
       "2                                     9132690m²   1984.5.1   \n",
       "\n",
       "                           공원주소          전화번호  \n",
       "0        서울특별시 중구 삼일대로 231(예장동)  02-3783-5900  \n",
       "1  서울특별시 강동구 천호대로 1291(길동생태공원)    02-489-2770  \n",
       "2            경기도 과천시 대공원광장로 102   02-500-7032  "
      ]
     },
     "execution_count": 40,
     "metadata": {},
     "output_type": "execute_result"
    }
   ],
   "source": [
    "final_p[:3]"
   ]
  },
  {
   "cell_type": "code",
   "execution_count": 46,
   "id": "d24e9ef4-39ca-437d-840c-6e4536ed30fb",
   "metadata": {},
   "outputs": [],
   "source": [
    "final_p.to_csv('./park_data.csv',index=False)"
   ]
  },
  {
   "cell_type": "code",
   "execution_count": 47,
   "id": "cbff3fa9-611e-4663-abdd-ab3986ad3d60",
   "metadata": {},
   "outputs": [],
   "source": [
    "a = pd.read_csv('park_data.csv')"
   ]
  },
  {
   "cell_type": "markdown",
   "id": "bdc07279-b56a-4a59-83b6-801e096f9b88",
   "metadata": {},
   "source": [
    "# ----------------------------"
   ]
  },
  {
   "cell_type": "code",
   "execution_count": 48,
   "id": "7d2e5961-3996-4d3e-912a-ef9cdfeadf10",
   "metadata": {},
   "outputs": [
    {
     "data": {
      "text/html": [
       "<div>\n",
       "<style scoped>\n",
       "    .dataframe tbody tr th:only-of-type {\n",
       "        vertical-align: middle;\n",
       "    }\n",
       "\n",
       "    .dataframe tbody tr th {\n",
       "        vertical-align: top;\n",
       "    }\n",
       "\n",
       "    .dataframe thead th {\n",
       "        text-align: right;\n",
       "    }\n",
       "</style>\n",
       "<table border=\"1\" class=\"dataframe\">\n",
       "  <thead>\n",
       "    <tr style=\"text-align: right;\">\n",
       "      <th></th>\n",
       "      <th>연번</th>\n",
       "      <th>공원명</th>\n",
       "      <th>위도</th>\n",
       "      <th>경도</th>\n",
       "      <th>지역</th>\n",
       "      <th>면적</th>\n",
       "      <th>개원일</th>\n",
       "      <th>공원주소</th>\n",
       "      <th>전화번호</th>\n",
       "    </tr>\n",
       "  </thead>\n",
       "  <tbody>\n",
       "    <tr>\n",
       "      <th>0</th>\n",
       "      <td>1</td>\n",
       "      <td>남산도시자연공원</td>\n",
       "      <td>37.550140</td>\n",
       "      <td>126.990377</td>\n",
       "      <td>중구</td>\n",
       "      <td>2896887㎡ 임 야 : 2454140㎡ 녹지대 및 기타시설 : 442747㎡</td>\n",
       "      <td>1968.9.10</td>\n",
       "      <td>서울특별시 중구 삼일대로 231(예장동)</td>\n",
       "      <td>02-3783-5900</td>\n",
       "    </tr>\n",
       "    <tr>\n",
       "      <th>1</th>\n",
       "      <td>2</td>\n",
       "      <td>길동생태공원</td>\n",
       "      <td>37.540394</td>\n",
       "      <td>127.154779</td>\n",
       "      <td>강동구</td>\n",
       "      <td>80683㎡</td>\n",
       "      <td>1999.5.20</td>\n",
       "      <td>서울특별시 강동구 천호대로 1291(길동생태공원)</td>\n",
       "      <td>02-489-2770</td>\n",
       "    </tr>\n",
       "  </tbody>\n",
       "</table>\n",
       "</div>"
      ],
      "text/plain": [
       "   연번       공원명         위도          경도   지역  \\\n",
       "0   1  남산도시자연공원  37.550140  126.990377   중구   \n",
       "1   2    길동생태공원  37.540394  127.154779  강동구   \n",
       "\n",
       "                                             면적        개원일  \\\n",
       "0  2896887㎡ 임 야 : 2454140㎡ 녹지대 및 기타시설 : 442747㎡  1968.9.10   \n",
       "1                                        80683㎡  1999.5.20   \n",
       "\n",
       "                           공원주소          전화번호  \n",
       "0        서울특별시 중구 삼일대로 231(예장동)  02-3783-5900  \n",
       "1  서울특별시 강동구 천호대로 1291(길동생태공원)    02-489-2770  "
      ]
     },
     "execution_count": 48,
     "metadata": {},
     "output_type": "execute_result"
    }
   ],
   "source": [
    "a[:2]"
   ]
  }
 ],
 "metadata": {
  "kernelspec": {
   "display_name": "Python 3",
   "language": "python",
   "name": "python3"
  },
  "language_info": {
   "codemirror_mode": {
    "name": "ipython",
    "version": 3
   },
   "file_extension": ".py",
   "mimetype": "text/x-python",
   "name": "python",
   "nbconvert_exporter": "python",
   "pygments_lexer": "ipython3",
   "version": "3.11.0 (main, Oct 24 2022, 18:26:48) [MSC v.1933 64 bit (AMD64)]"
  },
  "vscode": {
   "interpreter": {
    "hash": "c261aea317cc0286b3b3261fbba9abdec21eaa57589985bb7a274bf54d6cc0a7"
   }
  }
 },
 "nbformat": 4,
 "nbformat_minor": 5
}
