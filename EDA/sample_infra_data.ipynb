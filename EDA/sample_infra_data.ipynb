{
 "cells": [
  {
   "cell_type": "code",
   "execution_count": 1,
   "metadata": {},
   "outputs": [],
   "source": [
    "import pandas as pd\n",
    "import numpy as np\n",
    "\n",
    "import random\n",
    "from tqdm import tqdm\n",
    "\n",
    "import time"
   ]
  },
  {
   "cell_type": "code",
   "execution_count": 2,
   "metadata": {},
   "outputs": [],
   "source": [
    "path = '../modeling/RecBole/dataset/sample_rec/'\n",
    "house_subway_cafe_pharmacy = 'house_subway_cafe_pharmacy.csv'\n",
    "house_subway_conv_mart = 'house_subway_conv_mart.csv'\n",
    "house_subway_movie_mart = 'house_subway_movie_mart.csv'\n",
    "user = 's1.csv'\n",
    "user_ = pd.read_csv(path+user)\n",
    "scp = pd.read_csv(path+house_subway_cafe_pharmacy)\n",
    "scm = pd.read_csv(path+house_subway_conv_mart)\n",
    "smm = pd.read_csv(path+house_subway_movie_mart)"
   ]
  },
  {
   "cell_type": "code",
   "execution_count": 3,
   "metadata": {},
   "outputs": [
    {
     "data": {
      "text/plain": [
       "Index(['user_id', 'name', 'pw', 'user_gu', 'user_age', 'user_sex',\n",
       "       'register_date', 'update_date', 'user_type'],\n",
       "      dtype='object')"
      ]
     },
     "execution_count": 3,
     "metadata": {},
     "output_type": "execute_result"
    }
   ],
   "source": [
    "user_.columns"
   ]
  },
  {
   "cell_type": "code",
   "execution_count": 4,
   "metadata": {},
   "outputs": [],
   "source": [
    "user_ = user_[['user_id', 'name', 'user_gu', 'user_age', 'user_sex', 'user_type']]\n",
    "user_.columns = ['user_id:token', 'name:token', 'user_gu:token', 'user_age:token', 'user_sex:token', 'user_type:token']"
   ]
  },
  {
   "cell_type": "code",
   "execution_count": 5,
   "metadata": {},
   "outputs": [
    {
     "data": {
      "text/html": [
       "<div>\n",
       "<style scoped>\n",
       "    .dataframe tbody tr th:only-of-type {\n",
       "        vertical-align: middle;\n",
       "    }\n",
       "\n",
       "    .dataframe tbody tr th {\n",
       "        vertical-align: top;\n",
       "    }\n",
       "\n",
       "    .dataframe thead th {\n",
       "        text-align: right;\n",
       "    }\n",
       "</style>\n",
       "<table border=\"1\" class=\"dataframe\">\n",
       "  <thead>\n",
       "    <tr style=\"text-align: right;\">\n",
       "      <th></th>\n",
       "      <th>user_id:token</th>\n",
       "      <th>name:token</th>\n",
       "      <th>user_gu:token</th>\n",
       "      <th>user_age:token</th>\n",
       "      <th>user_sex:token</th>\n",
       "      <th>user_type:token</th>\n",
       "    </tr>\n",
       "  </thead>\n",
       "  <tbody>\n",
       "    <tr>\n",
       "      <th>0</th>\n",
       "      <td>1</td>\n",
       "      <td>호빵에서김나</td>\n",
       "      <td>강남구</td>\n",
       "      <td>1994</td>\n",
       "      <td>1</td>\n",
       "      <td>Y</td>\n",
       "    </tr>\n",
       "    <tr>\n",
       "      <th>1</th>\n",
       "      <td>2</td>\n",
       "      <td>gugu</td>\n",
       "      <td>광진구</td>\n",
       "      <td>1996</td>\n",
       "      <td>1</td>\n",
       "      <td>Y</td>\n",
       "    </tr>\n",
       "    <tr>\n",
       "      <th>2</th>\n",
       "      <td>3</td>\n",
       "      <td>채채</td>\n",
       "      <td>강남구</td>\n",
       "      <td>1999</td>\n",
       "      <td>1</td>\n",
       "      <td>Y</td>\n",
       "    </tr>\n",
       "    <tr>\n",
       "      <th>3</th>\n",
       "      <td>4</td>\n",
       "      <td>hyeonwoo</td>\n",
       "      <td>용산구</td>\n",
       "      <td>1997</td>\n",
       "      <td>0</td>\n",
       "      <td>Y</td>\n",
       "    </tr>\n",
       "    <tr>\n",
       "      <th>4</th>\n",
       "      <td>5</td>\n",
       "      <td>Rha</td>\n",
       "      <td>강남구</td>\n",
       "      <td>2006</td>\n",
       "      <td>0</td>\n",
       "      <td>Y</td>\n",
       "    </tr>\n",
       "    <tr>\n",
       "      <th>...</th>\n",
       "      <td>...</td>\n",
       "      <td>...</td>\n",
       "      <td>...</td>\n",
       "      <td>...</td>\n",
       "      <td>...</td>\n",
       "      <td>...</td>\n",
       "    </tr>\n",
       "    <tr>\n",
       "      <th>68</th>\n",
       "      <td>69</td>\n",
       "      <td>kimbs</td>\n",
       "      <td>강남구</td>\n",
       "      <td>1996</td>\n",
       "      <td>0</td>\n",
       "      <td>Y</td>\n",
       "    </tr>\n",
       "    <tr>\n",
       "      <th>69</th>\n",
       "      <td>70</td>\n",
       "      <td>nooko</td>\n",
       "      <td>강남구</td>\n",
       "      <td>1992</td>\n",
       "      <td>0</td>\n",
       "      <td>Y</td>\n",
       "    </tr>\n",
       "    <tr>\n",
       "      <th>70</th>\n",
       "      <td>71</td>\n",
       "      <td>신촌채</td>\n",
       "      <td>서대문구</td>\n",
       "      <td>1997</td>\n",
       "      <td>1</td>\n",
       "      <td>Y</td>\n",
       "    </tr>\n",
       "    <tr>\n",
       "      <th>71</th>\n",
       "      <td>72</td>\n",
       "      <td>안녕하세요 놀러왔습니다</td>\n",
       "      <td>강남구</td>\n",
       "      <td>1999</td>\n",
       "      <td>1</td>\n",
       "      <td>Y</td>\n",
       "    </tr>\n",
       "    <tr>\n",
       "      <th>72</th>\n",
       "      <td>73</td>\n",
       "      <td>성동채</td>\n",
       "      <td>강남구</td>\n",
       "      <td>2002</td>\n",
       "      <td>0</td>\n",
       "      <td>Y</td>\n",
       "    </tr>\n",
       "  </tbody>\n",
       "</table>\n",
       "<p>73 rows × 6 columns</p>\n",
       "</div>"
      ],
      "text/plain": [
       "    user_id:token    name:token user_gu:token  user_age:token  user_sex:token  \\\n",
       "0               1        호빵에서김나           강남구            1994               1   \n",
       "1               2          gugu           광진구            1996               1   \n",
       "2               3            채채           강남구            1999               1   \n",
       "3               4      hyeonwoo           용산구            1997               0   \n",
       "4               5           Rha           강남구            2006               0   \n",
       "..            ...           ...           ...             ...             ...   \n",
       "68             69         kimbs           강남구            1996               0   \n",
       "69             70         nooko           강남구            1992               0   \n",
       "70             71           신촌채          서대문구            1997               1   \n",
       "71             72  안녕하세요 놀러왔습니다           강남구            1999               1   \n",
       "72             73           성동채           강남구            2002               0   \n",
       "\n",
       "   user_type:token  \n",
       "0                Y  \n",
       "1                Y  \n",
       "2                Y  \n",
       "3                Y  \n",
       "4                Y  \n",
       "..             ...  \n",
       "68               Y  \n",
       "69               Y  \n",
       "70               Y  \n",
       "71               Y  \n",
       "72               Y  \n",
       "\n",
       "[73 rows x 6 columns]"
      ]
     },
     "execution_count": 5,
     "metadata": {},
     "output_type": "execute_result"
    }
   ],
   "source": [
    "user_"
   ]
  },
  {
   "cell_type": "code",
   "execution_count": 6,
   "metadata": {
    "tags": []
   },
   "outputs": [],
   "source": [
    "user_id = list(user_['user_id:token'].unique())\n"
   ]
  },
  {
   "cell_type": "code",
   "execution_count": 7,
   "metadata": {},
   "outputs": [],
   "source": [
    "scp = scp[['item_id', 'grid_id', 'sales_type',\n",
    "       '전용면적_m2', '매매금액', '보증금액', '월세금액', 'manage_cost', 'jibunAddress',\n",
    "       'local1', 'local2', 'sold_yn', 'subway_dist_score', 'cafe_dist_score',\n",
    "       'phar_dist_score']]"
   ]
  },
  {
   "cell_type": "code",
   "execution_count": 8,
   "metadata": {},
   "outputs": [],
   "source": [
    "scp.columns = ['house_id:token', 'grid_id:token', 'sales_type:token',\n",
    "       '전용면적_m2:float', '매매금액:float', '보증금액:float', '월세금액:float', 'manage_cost:float', 'jibunAddress:token',\n",
    "       'local1:token', 'local2:token', 'sold_yn:token', 'subway_dist_score:float', 'cafe_dist_score:float',\n",
    "       'phar_dist_score:float']"
   ]
  },
  {
   "cell_type": "code",
   "execution_count": 9,
   "metadata": {
    "tags": []
   },
   "outputs": [],
   "source": [
    "scp_house = list(scp['house_id:token'].unique())"
   ]
  },
  {
   "cell_type": "code",
   "execution_count": 10,
   "metadata": {},
   "outputs": [],
   "source": [
    "scp_inter = pd.DataFrame(columns=['user_id:token','house_id:token','interest:float'])\n",
    "li = random.sample(scp_house, 20)\n",
    "for i in range(800):\n",
    "    scp_inter.loc[i, 'user_id:token'] = random.randrange(len(user_id))\n",
    "    scp_inter.loc[i, 'house_id:token'] = random.sample(li, 1)[0]\n",
    "    scp_inter.loc[i, 'interest:float'] = random.choice([1,3,5])\n"
   ]
  },
  {
   "cell_type": "code",
   "execution_count": 11,
   "metadata": {},
   "outputs": [
    {
     "data": {
      "text/html": [
       "<div>\n",
       "<style scoped>\n",
       "    .dataframe tbody tr th:only-of-type {\n",
       "        vertical-align: middle;\n",
       "    }\n",
       "\n",
       "    .dataframe tbody tr th {\n",
       "        vertical-align: top;\n",
       "    }\n",
       "\n",
       "    .dataframe thead th {\n",
       "        text-align: right;\n",
       "    }\n",
       "</style>\n",
       "<table border=\"1\" class=\"dataframe\">\n",
       "  <thead>\n",
       "    <tr style=\"text-align: right;\">\n",
       "      <th></th>\n",
       "      <th>user_id:token</th>\n",
       "      <th>house_id:token</th>\n",
       "      <th>interest:float</th>\n",
       "    </tr>\n",
       "  </thead>\n",
       "  <tbody>\n",
       "    <tr>\n",
       "      <th>0</th>\n",
       "      <td>6</td>\n",
       "      <td>34818510</td>\n",
       "      <td>1</td>\n",
       "    </tr>\n",
       "    <tr>\n",
       "      <th>1</th>\n",
       "      <td>31</td>\n",
       "      <td>34875767</td>\n",
       "      <td>1</td>\n",
       "    </tr>\n",
       "    <tr>\n",
       "      <th>2</th>\n",
       "      <td>1</td>\n",
       "      <td>34153589</td>\n",
       "      <td>5</td>\n",
       "    </tr>\n",
       "    <tr>\n",
       "      <th>3</th>\n",
       "      <td>62</td>\n",
       "      <td>34916788</td>\n",
       "      <td>1</td>\n",
       "    </tr>\n",
       "    <tr>\n",
       "      <th>4</th>\n",
       "      <td>19</td>\n",
       "      <td>34649802</td>\n",
       "      <td>3</td>\n",
       "    </tr>\n",
       "    <tr>\n",
       "      <th>...</th>\n",
       "      <td>...</td>\n",
       "      <td>...</td>\n",
       "      <td>...</td>\n",
       "    </tr>\n",
       "    <tr>\n",
       "      <th>795</th>\n",
       "      <td>62</td>\n",
       "      <td>34517316</td>\n",
       "      <td>1</td>\n",
       "    </tr>\n",
       "    <tr>\n",
       "      <th>796</th>\n",
       "      <td>7</td>\n",
       "      <td>34697903</td>\n",
       "      <td>3</td>\n",
       "    </tr>\n",
       "    <tr>\n",
       "      <th>797</th>\n",
       "      <td>56</td>\n",
       "      <td>34153589</td>\n",
       "      <td>1</td>\n",
       "    </tr>\n",
       "    <tr>\n",
       "      <th>798</th>\n",
       "      <td>0</td>\n",
       "      <td>34875767</td>\n",
       "      <td>5</td>\n",
       "    </tr>\n",
       "    <tr>\n",
       "      <th>799</th>\n",
       "      <td>41</td>\n",
       "      <td>34625025</td>\n",
       "      <td>5</td>\n",
       "    </tr>\n",
       "  </tbody>\n",
       "</table>\n",
       "<p>800 rows × 3 columns</p>\n",
       "</div>"
      ],
      "text/plain": [
       "    user_id:token house_id:token interest:float\n",
       "0               6       34818510              1\n",
       "1              31       34875767              1\n",
       "2               1       34153589              5\n",
       "3              62       34916788              1\n",
       "4              19       34649802              3\n",
       "..            ...            ...            ...\n",
       "795            62       34517316              1\n",
       "796             7       34697903              3\n",
       "797            56       34153589              1\n",
       "798             0       34875767              5\n",
       "799            41       34625025              5\n",
       "\n",
       "[800 rows x 3 columns]"
      ]
     },
     "execution_count": 11,
     "metadata": {},
     "output_type": "execute_result"
    }
   ],
   "source": [
    "scp_inter"
   ]
  },
  {
   "cell_type": "code",
   "execution_count": null,
   "metadata": {},
   "outputs": [],
   "source": []
  },
  {
   "cell_type": "code",
   "execution_count": null,
   "metadata": {},
   "outputs": [],
   "source": []
  },
  {
   "cell_type": "code",
   "execution_count": 12,
   "metadata": {},
   "outputs": [],
   "source": [
    "scm = scm[['item_id', 'grid_id', 'sales_type',\n",
    "       '전용면적_m2', '매매금액', '보증금액', '월세금액', 'manage_cost', 'jibunAddress',\n",
    "       'local1', 'local2', 'sold_yn', 'subway_dist_score', 'cs_dist_score',\n",
    "       'mart_dist_score']]\n",
    "scm.columns = ['house_id:token', 'grid_id:token', 'sales_type:token',\n",
    "       '전용면적_m2:float', '매매금액:float', '보증금액:float', '월세금액:float', 'manage_cost:float', 'jibunAddress:token',\n",
    "       'local1:token', 'local2:token', 'sold_yn:token', 'subway_dist_score:float', 'cs_dist_score:float',\n",
    "       'mart_dist_score:float']"
   ]
  },
  {
   "cell_type": "code",
   "execution_count": 13,
   "metadata": {
    "tags": []
   },
   "outputs": [],
   "source": [
    "scm_house = list(scm['house_id:token'].unique())"
   ]
  },
  {
   "cell_type": "code",
   "execution_count": 14,
   "metadata": {},
   "outputs": [],
   "source": [
    "scm_inter = pd.DataFrame(columns=['user_id:token','house_id:token','interest:float'])\n",
    "li = random.sample(scm_house, 20)\n",
    "for i in range(800):\n",
    "    scm_inter.loc[i, 'user_id:token'] = random.randrange(len(user_id))\n",
    "    scm_inter.loc[i, 'house_id:token'] = random.sample(li, 1)[0]\n",
    "    scm_inter.loc[i, 'interest:float'] = random.choice([1,3,5])"
   ]
  },
  {
   "cell_type": "code",
   "execution_count": null,
   "metadata": {},
   "outputs": [],
   "source": []
  },
  {
   "cell_type": "code",
   "execution_count": 15,
   "metadata": {},
   "outputs": [],
   "source": [
    "smm = smm[['item_id', 'grid_id', 'sales_type',\n",
    "       '전용면적_m2', '매매금액', '보증금액', '월세금액', 'manage_cost', 'jibunAddress',\n",
    "       'local1', 'local2', 'sold_yn', 'subway_dist_score', 'theater_dist_score',\n",
    "       'mart_dist_score']]\n",
    "smm.columns = ['house_id:token', 'grid_id:token', 'sales_type:token',\n",
    "       '전용면적_m2:float', '매매금액:float', '보증금액:float', '월세금액:float', 'manage_cost:float', 'jibunAddress:token',\n",
    "       'local1:token', 'local2:token', 'sold_yn:token', 'subway_dist_score:float', 'theater_dist_score:float',\n",
    "       'mart_dist_score:float']"
   ]
  },
  {
   "cell_type": "code",
   "execution_count": 16,
   "metadata": {
    "tags": []
   },
   "outputs": [],
   "source": [
    "smm_house = list(smm['house_id:token'].unique())"
   ]
  },
  {
   "cell_type": "code",
   "execution_count": 17,
   "metadata": {},
   "outputs": [],
   "source": [
    "smm_inter = pd.DataFrame(columns=['user_id:token','house_id:token','interest:float'])\n",
    "li = random.sample(smm_house, 20)\n",
    "for i in range(800):\n",
    "    smm_inter.loc[i, 'user_id:token'] = random.randrange(len(user_id))\n",
    "    smm_inter.loc[i, 'house_id:token'] = random.sample(li, 1)[0]\n",
    "    smm_inter.loc[i, 'interest:float'] = random.choice([1,3,5])"
   ]
  },
  {
   "cell_type": "code",
   "execution_count": null,
   "metadata": {},
   "outputs": [],
   "source": []
  },
  {
   "cell_type": "code",
   "execution_count": 18,
   "metadata": {},
   "outputs": [],
   "source": [
    "scp_inter.to_csv(path+'sample_rec_scp.inter',index=False, sep='\\t')\n",
    "scm_inter.to_csv(path+'sample_rec_scm.inter',index=False, sep='\\t')\n",
    "smm_inter.to_csv(path+'sample_rec_smm.inter',index=False, sep='\\t')\n",
    "\n",
    "# user_.to_csv(path+'sample_rec.user',index=False, sep='\\t')\n",
    "\n",
    "scp.to_csv(path+'sample_rec_scp.item',index=False, sep='\\t')\n",
    "scm.to_csv(path+'sample_rec_scm.item',index=False, sep='\\t')\n",
    "smm.to_csv(path+'sample_rec_smm.item',index=False, sep='\\t')"
   ]
  },
  {
   "cell_type": "code",
   "execution_count": null,
   "metadata": {},
   "outputs": [],
   "source": []
  },
  {
   "cell_type": "code",
   "execution_count": 19,
   "metadata": {},
   "outputs": [
    {
     "data": {
      "text/plain": [
       "(2.955, 3.025, 3.04)"
      ]
     },
     "execution_count": 19,
     "metadata": {},
     "output_type": "execute_result"
    }
   ],
   "source": [
    "scp_inter['interest:float'].mean(), scm_inter['interest:float'].mean(), smm_inter['interest:float'].mean()"
   ]
  },
  {
   "cell_type": "code",
   "execution_count": null,
   "metadata": {},
   "outputs": [],
   "source": []
  },
  {
   "cell_type": "code",
   "execution_count": null,
   "metadata": {},
   "outputs": [],
   "source": []
  },
  {
   "cell_type": "code",
   "execution_count": null,
   "metadata": {},
   "outputs": [],
   "source": []
  },
  {
   "cell_type": "code",
   "execution_count": null,
   "metadata": {},
   "outputs": [],
   "source": []
  }
 ],
 "metadata": {
  "kernelspec": {
   "display_name": "Python 3 (ipykernel)",
   "language": "python",
   "name": "python3"
  },
  "language_info": {
   "codemirror_mode": {
    "name": "ipython",
    "version": 3
   },
   "file_extension": ".py",
   "mimetype": "text/x-python",
   "name": "python",
   "nbconvert_exporter": "python",
   "pygments_lexer": "ipython3",
   "version": "3.8.5"
  },
  "vscode": {
   "interpreter": {
    "hash": "c5db23276c81553f28ee3180bed390753f4be5ff4a51ba457f4dc3628ca570f3"
   }
  }
 },
 "nbformat": 4,
 "nbformat_minor": 4
}
