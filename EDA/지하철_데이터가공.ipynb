{
 "cells": [
  {
   "cell_type": "code",
   "execution_count": 2,
   "id": "1b837cb2-091f-470c-9c45-152dc008c9e5",
   "metadata": {},
   "outputs": [],
   "source": [
    "# 환경구축 : requirements.txt + pandas install\n",
    "import numpy as np\n",
    "import pandas as pd\n",
    "\n",
    "import matplotlib as mpl\n",
    "import matplotlib.pyplot as plt\n",
    "\n",
    "import warnings\n",
    "\n",
    "warnings.filterwarnings(action='ignore')\n",
    "\n",
    "import os\n",
    "\n",
    "path = '/opt/ml/'"
   ]
  },
  {
   "cell_type": "code",
   "execution_count": 3,
   "id": "dacd2a36-e149-4c7d-a479-bdb329a94a45",
   "metadata": {},
   "outputs": [],
   "source": [
    "subway = pd.read_csv('subway.csv',encoding='cp949')"
   ]
  },
  {
   "cell_type": "code",
   "execution_count": 7,
   "id": "5de0e394-43fb-43e2-886c-093305a81c2e",
   "metadata": {},
   "outputs": [
    {
     "data": {
      "text/html": [
       "<div>\n",
       "<style scoped>\n",
       "    .dataframe tbody tr th:only-of-type {\n",
       "        vertical-align: middle;\n",
       "    }\n",
       "\n",
       "    .dataframe tbody tr th {\n",
       "        vertical-align: top;\n",
       "    }\n",
       "\n",
       "    .dataframe thead th {\n",
       "        text-align: right;\n",
       "    }\n",
       "</style>\n",
       "<table border=\"1\" class=\"dataframe\">\n",
       "  <thead>\n",
       "    <tr style=\"text-align: right;\">\n",
       "      <th></th>\n",
       "      <th>역이름</th>\n",
       "      <th>역지역</th>\n",
       "      <th>Unnamed: 2</th>\n",
       "      <th>Unnamed: 3</th>\n",
       "      <th>호선</th>\n",
       "    </tr>\n",
       "  </thead>\n",
       "  <tbody>\n",
       "    <tr>\n",
       "      <th>0</th>\n",
       "      <td>낙성대역</td>\n",
       "      <td>수도권</td>\n",
       "      <td>37.477090</td>\n",
       "      <td>126.963506</td>\n",
       "      <td>02호선</td>\n",
       "    </tr>\n",
       "    <tr>\n",
       "      <th>1</th>\n",
       "      <td>구룡역</td>\n",
       "      <td>수도권</td>\n",
       "      <td>37.487027</td>\n",
       "      <td>127.059475</td>\n",
       "      <td>분당선</td>\n",
       "    </tr>\n",
       "  </tbody>\n",
       "</table>\n",
       "</div>"
      ],
      "text/plain": [
       "    역이름  역지역  Unnamed: 2  Unnamed: 3    호선\n",
       "0  낙성대역  수도권   37.477090  126.963506  02호선\n",
       "1   구룡역  수도권   37.487027  127.059475   분당선"
      ]
     },
     "execution_count": 7,
     "metadata": {},
     "output_type": "execute_result"
    }
   ],
   "source": [
    "subway.head(2)"
   ]
  },
  {
   "cell_type": "code",
   "execution_count": 8,
   "id": "3cef052e-f8e5-428d-912c-fe027d5be263",
   "metadata": {},
   "outputs": [],
   "source": [
    "subway.columns = ['역이름','역지역','위도','경도','호선']"
   ]
  },
  {
   "cell_type": "code",
   "execution_count": 27,
   "id": "41bfa1a5-bbd2-4359-ab53-ede8007aebf7",
   "metadata": {},
   "outputs": [
    {
     "data": {
      "text/html": [
       "<div>\n",
       "<style scoped>\n",
       "    .dataframe tbody tr th:only-of-type {\n",
       "        vertical-align: middle;\n",
       "    }\n",
       "\n",
       "    .dataframe tbody tr th {\n",
       "        vertical-align: top;\n",
       "    }\n",
       "\n",
       "    .dataframe thead th {\n",
       "        text-align: right;\n",
       "    }\n",
       "</style>\n",
       "<table border=\"1\" class=\"dataframe\">\n",
       "  <thead>\n",
       "    <tr style=\"text-align: right;\">\n",
       "      <th></th>\n",
       "      <th>역이름</th>\n",
       "      <th>역지역</th>\n",
       "      <th>위도</th>\n",
       "      <th>경도</th>\n",
       "      <th>호선</th>\n",
       "    </tr>\n",
       "  </thead>\n",
       "  <tbody>\n",
       "    <tr>\n",
       "      <th>0</th>\n",
       "      <td>낙성대역</td>\n",
       "      <td>수도권</td>\n",
       "      <td>37.477090</td>\n",
       "      <td>126.963506</td>\n",
       "      <td>02호선</td>\n",
       "    </tr>\n",
       "    <tr>\n",
       "      <th>1</th>\n",
       "      <td>구룡역</td>\n",
       "      <td>수도권</td>\n",
       "      <td>37.487027</td>\n",
       "      <td>127.059475</td>\n",
       "      <td>분당선</td>\n",
       "    </tr>\n",
       "    <tr>\n",
       "      <th>2</th>\n",
       "      <td>서울대입구역</td>\n",
       "      <td>수도권</td>\n",
       "      <td>37.481284</td>\n",
       "      <td>126.952695</td>\n",
       "      <td>02호선</td>\n",
       "    </tr>\n",
       "    <tr>\n",
       "      <th>3</th>\n",
       "      <td>불광역</td>\n",
       "      <td>수도권</td>\n",
       "      <td>37.610044</td>\n",
       "      <td>126.930302</td>\n",
       "      <td>03호선</td>\n",
       "    </tr>\n",
       "    <tr>\n",
       "      <th>4</th>\n",
       "      <td>월롱역</td>\n",
       "      <td>수도권</td>\n",
       "      <td>37.796204</td>\n",
       "      <td>126.792563</td>\n",
       "      <td>경의선</td>\n",
       "    </tr>\n",
       "    <tr>\n",
       "      <th>...</th>\n",
       "      <td>...</td>\n",
       "      <td>...</td>\n",
       "      <td>...</td>\n",
       "      <td>...</td>\n",
       "      <td>...</td>\n",
       "    </tr>\n",
       "    <tr>\n",
       "      <th>723</th>\n",
       "      <td>종각역</td>\n",
       "      <td>수도권</td>\n",
       "      <td>37.570222</td>\n",
       "      <td>126.983134</td>\n",
       "      <td>01호선</td>\n",
       "    </tr>\n",
       "    <tr>\n",
       "      <th>724</th>\n",
       "      <td>화계역</td>\n",
       "      <td>수도권</td>\n",
       "      <td>37.634084</td>\n",
       "      <td>127.017492</td>\n",
       "      <td>우이신설경전철</td>\n",
       "    </tr>\n",
       "    <tr>\n",
       "      <th>725</th>\n",
       "      <td>삼양역</td>\n",
       "      <td>수도권</td>\n",
       "      <td>37.626912</td>\n",
       "      <td>127.018148</td>\n",
       "      <td>우이신설경전철</td>\n",
       "    </tr>\n",
       "    <tr>\n",
       "      <th>726</th>\n",
       "      <td>회기역</td>\n",
       "      <td>수도권</td>\n",
       "      <td>37.589778</td>\n",
       "      <td>127.058039</td>\n",
       "      <td>경의선</td>\n",
       "    </tr>\n",
       "    <tr>\n",
       "      <th>727</th>\n",
       "      <td>가좌역</td>\n",
       "      <td>수도권</td>\n",
       "      <td>37.568751</td>\n",
       "      <td>126.914811</td>\n",
       "      <td>경의선</td>\n",
       "    </tr>\n",
       "  </tbody>\n",
       "</table>\n",
       "<p>728 rows × 5 columns</p>\n",
       "</div>"
      ],
      "text/plain": [
       "        역이름  역지역         위도          경도       호선\n",
       "0      낙성대역  수도권  37.477090  126.963506     02호선\n",
       "1       구룡역  수도권  37.487027  127.059475      분당선\n",
       "2    서울대입구역  수도권  37.481284  126.952695     02호선\n",
       "3       불광역  수도권  37.610044  126.930302     03호선\n",
       "4       월롱역  수도권  37.796204  126.792563      경의선\n",
       "..      ...  ...        ...         ...      ...\n",
       "723     종각역  수도권  37.570222  126.983134     01호선\n",
       "724     화계역  수도권  37.634084  127.017492  우이신설경전철\n",
       "725     삼양역  수도권  37.626912  127.018148  우이신설경전철\n",
       "726     회기역  수도권  37.589778  127.058039      경의선\n",
       "727     가좌역  수도권  37.568751  126.914811      경의선\n",
       "\n",
       "[728 rows x 5 columns]"
      ]
     },
     "execution_count": 27,
     "metadata": {},
     "output_type": "execute_result"
    }
   ],
   "source": [
    "subway[(subway['역지역']=='수도권')]"
   ]
  },
  {
   "cell_type": "code",
   "execution_count": 19,
   "id": "2d9c637e-9753-4262-92a7-b8d46ca977b3",
   "metadata": {},
   "outputs": [
    {
     "data": {
      "text/plain": [
       "['01호선',\n",
       " '02호선',\n",
       " '03호선',\n",
       " '04호선',\n",
       " '05호선',\n",
       " '06호선',\n",
       " '07호선',\n",
       " '08호선',\n",
       " '09호선',\n",
       " '경강선',\n",
       " '경의선',\n",
       " '경춘선',\n",
       " '공항철도',\n",
       " '김포골드',\n",
       " '분당선',\n",
       " '서해선',\n",
       " '수인선',\n",
       " '신분당선',\n",
       " '용인경전철',\n",
       " '우이신설경전철',\n",
       " '의정부경전철',\n",
       " '인천2호선',\n",
       " '인천선']"
      ]
     },
     "execution_count": 19,
     "metadata": {},
     "output_type": "execute_result"
    }
   ],
   "source": [
    "sorted(subway['호선'].unique())"
   ]
  },
  {
   "cell_type": "code",
   "execution_count": 26,
   "id": "37955e41-20de-4e14-b7de-6efe29944866",
   "metadata": {},
   "outputs": [],
   "source": [
    "# subway[subway['호선']=='수인선']"
   ]
  },
  {
   "cell_type": "code",
   "execution_count": 25,
   "id": "34b6d38d-d96a-46f2-af9d-8baab4592778",
   "metadata": {},
   "outputs": [],
   "source": [
    "# subway[subway['호선']=='분당선']"
   ]
  },
  {
   "cell_type": "code",
   "execution_count": 28,
   "id": "557a112e-0ae2-4439-89b7-d9223311e072",
   "metadata": {},
   "outputs": [],
   "source": [
    "final_s = subway[(subway['역지역']=='수도권')]"
   ]
  },
  {
   "cell_type": "code",
   "execution_count": 31,
   "id": "b35a3858-4ddd-4520-8f9f-78044fa4d644",
   "metadata": {},
   "outputs": [],
   "source": [
    "final_s.to_csv('./subway_data.csv',index=False)"
   ]
  }
 ],
 "metadata": {
  "kernelspec": {
   "display_name": "Python 3 (ipykernel)",
   "language": "python",
   "name": "python3"
  },
  "language_info": {
   "codemirror_mode": {
    "name": "ipython",
    "version": 3
   },
   "file_extension": ".py",
   "mimetype": "text/x-python",
   "name": "python",
   "nbconvert_exporter": "python",
   "pygments_lexer": "ipython3",
   "version": "3.8.5"
  }
 },
 "nbformat": 4,
 "nbformat_minor": 5
}
